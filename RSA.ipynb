{
 "cells": [
  {
   "cell_type": "markdown",
   "metadata": {},
   "source": [
    "<div style=\"text-align: right\">Paul Novaes<br>August 2018</div> \n",
    "\n",
    "# RSA-3\n",
    "\n",
    "The goal of this notebook is to present RSA in the special (and common) case where the exponent of the public key is $e=3$.\n",
    "\n",
    "This simplifies quite a bit the implementation and some of the math. In addition, we will see that it stresses the fact that RSA is based on the difficulty of computing the $k$-th root of a number modulo $n$. This difficulty is a bit surprising because the problem is easy over regular integers.\n",
    "\n",
    "Moreover, in this case, the public key is just $n$ and the secret key is just $(p, q)$ where $n=pq$. That is, it shows that the real secret is not any magic exponent, but the fact that one of the parties knows the factorization of $n$.\n",
    "\n",
    "## Public-Key Cryptography\n",
    "\n",
    "A cryptosystem allows 2 people to communicate in a way that their conversation remains private even in the presence of an eavesdropper.\n",
    "\n",
    "Anybody, for example Alice, who wants to receive private messages produces 2 keys:\n",
    "* a public key $pk$, that she publishes for anybody to see (and use)\n",
    "* a secret key $sk$, that she keeps to herself\n",
    "\n",
    "Anybody, for example Bob, who wants to send a message $m$ to Alice uses an encryption function $E$, and the public-key $pk$ to encrypt the message:\n",
    "\n",
    "$$c=E(m, pk)$$\n",
    "\n",
    "$E$ is such than from $c$, it is very difficult to get $m$. $E$ is a __one-way function__, easy to compute but difficult to invert.\n",
    "\n",
    "Alice uses a decrypting function $D$ and her private key $sk$, to decrypt c:\n",
    "\n",
    "$$m = D(c, sk)$$\n",
    "\n",
    "\n",
    "## RSA-3 Cryptosystem\n",
    "\n",
    "In RSA-3, Alice chooses a number $n=pq$, product of 2 distinct primes of the form $6k + 5$.\n",
    "* the public key is $pk=n$\n",
    "* the secret key is $sk=(p, q)$\n",
    "\n",
    "The encrypting and decrypting functions are defined by:\n",
    "* $E_n(m) = m^3 \\bmod n$\n",
    "* $D_n(c) = \\sqrt[3] c \\bmod n$ \n",
    "\n",
    "In fact we will show that $\\sqrt[3] c \\bmod n = c^{(2\\phi(n) + 1)/{3}} \\bmod n$, where $\\phi(n) = (p-1)(q-1)$\n",
    "\n",
    "RSA-3 relies on the fact that it is easy for Alice, who knows $(p,q)$, to compute the cubic root of the cypher, but not for Bob."
   ]
  },
  {
   "cell_type": "markdown",
   "metadata": {},
   "source": [
    "## Proof\n",
    "\n",
    "Let's show that $$D_n(E_n(m)) \\equiv_n m$$\n",
    "\n",
    "This is obviously true if $m \\equiv_n 0$. So let's assume that $m \\neq 0$, mod $n$.\n",
    "\n",
    "We have $D_n(E_n(m)) \\equiv_n m^{2\\phi(n) + 1}$. Using the Chinese Remaining Theorem (CRT) and then Fermat's Little Theorem ($m^{\\phi(n)} \\equiv_p 1$), we have:\n",
    "\n",
    "$$D_n(E_n(m)) \\equiv_p m^{2\\phi(n) + 1} \\equiv_p m.m^{\\phi(n)}.m^{\\phi(n)} \\equiv_p m$$\n",
    "\n",
    "Therefore for any $m$, $D_n(E_n(m)) \\equiv_p m$ and similarly $D_n(E_n(m)) \\equiv_q m$.\n",
    "\n",
    "Using CRT again, $$D_n(E_n(m)) \\equiv_n m$$"
   ]
  },
  {
   "cell_type": "markdown",
   "metadata": {},
   "source": [
    "## Implementation\n",
    "\n",
    "To test whether a number is (probably) prime we will use Miller-Rabin primality test:"
   ]
  },
  {
   "cell_type": "code",
   "execution_count": 1,
   "metadata": {},
   "outputs": [],
   "source": [
    "from random import *\n",
    "\n",
    "def is_miller_rabin_witness(a, n):\n",
    "    if pow(a, n - 1, n) != 1:\n",
    "        return True\n",
    "    k = n - 1\n",
    "    while k % 2 == 0:\n",
    "        k //= 2\n",
    "        res = pow(a, k, n)\n",
    "        if res == -1 + n:\n",
    "            return False\n",
    "        if res != 1:\n",
    "            return True\n",
    "    return False\n",
    "\n",
    "def is_probable_prime(n):\n",
    "    for i in range(50):\n",
    "        a = randint(1, n - 1)\n",
    "        if is_miller_rabin_witness(a, n):\n",
    "            return False\n",
    "    return True"
   ]
  },
  {
   "cell_type": "markdown",
   "metadata": {},
   "source": [
    "Generating a random modulo $n$:"
   ]
  },
  {
   "cell_type": "code",
   "execution_count": 2,
   "metadata": {},
   "outputs": [],
   "source": [
    "def random_6n_5_prime(lo, hi):\n",
    "    while True:\n",
    "        n = randint(lo, hi)\n",
    "        n = 6 * (n // 6) + 5\n",
    "        if (n < lo):\n",
    "            continue\n",
    "        if is_probable_prime(n):\n",
    "            return n\n",
    "\n",
    "def generate_random_mod(lo, hi):\n",
    "    while True:\n",
    "        p = random_6n_5_prime(lo, hi)\n",
    "        q = random_6n_5_prime(lo, hi)\n",
    "        if p != q:\n",
    "            break\n",
    "    return p, q"
   ]
  },
  {
   "cell_type": "markdown",
   "metadata": {},
   "source": [
    "Encrypting and decrypting functions:"
   ]
  },
  {
   "cell_type": "code",
   "execution_count": 3,
   "metadata": {},
   "outputs": [],
   "source": [
    "def encrypt(m, n):\n",
    "    return pow(m, 3, n)\n",
    "\n",
    "def decrypt(m, p, q):\n",
    "    phi = (p - 1)*(q - 1)\n",
    "    d = (2 * phi + 1) // 3\n",
    "    return pow(m, d, p*q)"
   ]
  },
  {
   "cell_type": "markdown",
   "metadata": {},
   "source": [
    "## $p, q = 5, 11$"
   ]
  },
  {
   "cell_type": "code",
   "execution_count": 4,
   "metadata": {},
   "outputs": [
    {
     "name": "stdout",
     "output_type": "stream",
     "text": [
      "        message          cypher         decoded\n",
      "\n",
      "              0               0               0 =\n",
      "              1               1               1 =\n",
      "              2               8               2 \n",
      "              3              27               3 \n",
      "              4               9               4 \n",
      "              5              15               5 \n",
      "              6              51               6 \n",
      "              7              13               7 \n",
      "              8              17               8 \n",
      "              9              14               9 \n",
      "             10              10              10 =\n",
      "             11              11              11 =\n",
      "             12              23              12 \n",
      "             13              52              13 \n",
      "             14              49              14 \n",
      "             15              20              15 \n",
      "             16              26              16 \n",
      "             17              18              17 \n",
      "             18               2              18 \n",
      "             19              39              19 \n",
      "             20              25              20 \n",
      "             21              21              21 =\n",
      "             22              33              22 \n",
      "             23              12              23 \n",
      "             24              19              24 \n",
      "             25               5              25 \n",
      "             26              31              26 \n",
      "             27              48              27 \n",
      "             28               7              28 \n",
      "             29              24              29 \n",
      "             30              50              30 \n",
      "             31              36              31 \n",
      "             32              43              32 \n",
      "             33              22              33 \n",
      "             34              34              34 =\n",
      "             35              30              35 \n",
      "             36              16              36 \n",
      "             37              53              37 \n",
      "             38              37              38 \n",
      "             39              29              39 \n",
      "             40              35              40 \n",
      "             41               6              41 \n",
      "             42               3              42 \n",
      "             43              32              43 \n",
      "             44              44              44 =\n",
      "             45              45              45 =\n",
      "             46              41              46 \n",
      "             47              38              47 \n",
      "             48              42              48 \n",
      "             49               4              49 \n",
      "             50              40              50 \n",
      "             51              46              51 \n",
      "             52              28              52 \n",
      "             53              47              53 \n",
      "             54              54              54 =\n"
     ]
    }
   ],
   "source": [
    "p, q = 5, 11\n",
    "n = p * q\n",
    "print('        message          cypher         decoded')\n",
    "print()\n",
    "for m in range(n):\n",
    "    c = encrypt(m, n)\n",
    "    d = decrypt(c, p, q)\n",
    "    assert(m == d)\n",
    "    if c == d:\n",
    "        print(\"%15d %15d %15d =\" % (m, c, d))   \n",
    "    else:\n",
    "        print(\"%15d %15d %15d \" % (m, c, d))   "
   ]
  },
  {
   "cell_type": "markdown",
   "metadata": {},
   "source": [
    "## Fixed Points"
   ]
  },
  {
   "cell_type": "code",
   "execution_count": 5,
   "metadata": {},
   "outputs": [
    {
     "name": "stdout",
     "output_type": "stream",
     "text": [
      "        message          cypher         decoded\n",
      "\n",
      "              0               0               0 =\n",
      "              1               1               1 =\n",
      "           1818            1818            1818 =\n",
      "           1819            1819            1819 =\n",
      "           3637            3637            3637 =\n",
      "           7170            7170            7170 =\n",
      "           8988            8988            8988 =\n",
      "           8989            8989            8989 =\n",
      "          10806           10806           10806 =\n"
     ]
    }
   ],
   "source": [
    "def print_fixed_point(p, q):\n",
    "    n = p * q\n",
    "    print('        message          cypher         decoded')\n",
    "    print()\n",
    "    for m in range(n):\n",
    "        c = encrypt(m, n)\n",
    "        d = decrypt(c, p, q)\n",
    "        assert(m == d)\n",
    "        if c == d:\n",
    "            print(\"%15d %15d %15d =\" % (m, c, d))       \n",
    "\n",
    "p, q = 101, 107\n",
    "print_fixed_point(p, q)"
   ]
  },
  {
   "cell_type": "code",
   "execution_count": 6,
   "metadata": {},
   "outputs": [
    {
     "name": "stdout",
     "output_type": "stream",
     "text": [
      "        message          cypher         decoded\n",
      "\n",
      "              0               0               0 =\n",
      "              1               1               1 =\n",
      "         172210          172210          172210 =\n",
      "         172211          172211          172211 =\n",
      "         344421          344421          344421 =\n",
      "         687826          687826          687826 =\n",
      "         860036          860036          860036 =\n",
      "         860037          860037          860037 =\n",
      "        1032246         1032246         1032246 =\n"
     ]
    }
   ],
   "source": [
    "p, q = 1013, 1019\n",
    "print_fixed_point(p, q)"
   ]
  },
  {
   "cell_type": "code",
   "execution_count": 7,
   "metadata": {},
   "outputs": [
    {
     "name": "stdout",
     "output_type": "stream",
     "text": [
      "        message          cypher         decoded\n",
      "\n",
      "     1000000000      6497629787      1000000000 \n",
      "     1000000001      6241139314      1000000001 \n",
      "     1000000002      4652135864      1000000002 \n",
      "     1000000003      1730619443      1000000003 \n",
      "     1000000004      4809103040      1000000004 \n",
      "     1000000005      6555073678      1000000005 \n",
      "     1000000006      6968531363      1000000006 \n",
      "     1000000007      6049476101      1000000007 \n",
      "     1000000008      3797907898      1000000008 \n",
      "     1000000009       213826760      1000000009 \n"
     ]
    }
   ],
   "source": [
    "p, q = generate_random_mod(10**4, 10**5)\n",
    "n = p * q\n",
    "print('        message          cypher         decoded')\n",
    "print()\n",
    "for m in range(10**9, 10**9 + 10):\n",
    "    c = encrypt(m, n)\n",
    "    d = decrypt(c, p, q)\n",
    "    print(\"%15d %15d %15d \" % (m, c, d)) "
   ]
  },
  {
   "cell_type": "code",
   "execution_count": 8,
   "metadata": {},
   "outputs": [
    {
     "name": "stdout",
     "output_type": "stream",
     "text": [
      "         0          0          0 \n",
      "         1          1          1 \n",
      "      6594       6594       6594 \n",
      "    225549     225549     225549 \n",
      "    225550     225550     225550 \n",
      "    232143     232143     232143 \n",
      "    232144     232144     232144 \n",
      "    451099     451099     451099 \n",
      "    457692     457692     457692 \n"
     ]
    }
   ],
   "source": [
    "p, q = generate_random_mod(10, 3000)\n",
    "n = p * q\n",
    "for m in range(n):\n",
    "    c = encrypt(m, n)\n",
    "    mm = decrypt(c, p, q)\n",
    "    assert(m == mm)\n",
    "    if m == c:\n",
    "        print(\"%10d %10d %10d \" % (m, c, mm))"
   ]
  }
 ],
 "metadata": {
  "kernelspec": {
   "display_name": "Python 3",
   "language": "python",
   "name": "python3"
  },
  "language_info": {
   "codemirror_mode": {
    "name": "ipython",
    "version": 3
   },
   "file_extension": ".py",
   "mimetype": "text/x-python",
   "name": "python",
   "nbconvert_exporter": "python",
   "pygments_lexer": "ipython3",
   "version": "3.6.5"
  }
 },
 "nbformat": 4,
 "nbformat_minor": 2
}
