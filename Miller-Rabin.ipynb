{
 "cells": [
  {
   "cell_type": "markdown",
   "metadata": {},
   "source": [
    "# Miller-Rabin Primality Test\n",
    "\n",
    "Let's recap a few results from the notebook \"PRIMES is in NP\":\n",
    "* First, we noted that the traditional algorithm for determining whether a number $n$ is prime (consisting in trying all potential divisors up to $\\sqrt n$) is very slow: it runs in exponential time in the number of digits of $n$.\n",
    "* We then tried to use __Fermat's Little Theorem__ as a criteria of primality: if $n$ is prime and $a \\not\\equiv_n 0$ then $a^{n-1} \\equiv_n 1$.\n",
    "* Unfortutely, its converse is not true. For example $2^{340} \\equiv_{341} 1$ and $3^{90} \\equiv_{91} 1$, even though $341$ and $91$ are composite. There does not appear to be a witness $a$ that would work with every composite.\n",
    "* We finally tried using fixed small sets of witnesses $\\{a_1, a_2, \\ldots, a_k\\}$, but gave up as they don't appear to work for every composite either.\n",
    "\n",
    "In the present notebook, we show first that for most composites, by choosing a __random__ small set of witnesses, Fermat's test provides a proof of compositeness with very high probability.\n",
    "\n",
    "A few composites, called __Carmichael Numbers__, fail this test. Fortunately, they can be proven composite too, in a randomized sense again, by using a stronger version of Fermat's test, called __Miller-Rabin test__.\n",
    "\n",
    "## Algorithm\n",
    "\n",
    "\n",
    "The algorithm runs first Fermat's test. If it is unable to determine that $n$ is composite, then it means that $a^{n-1} \\equiv_n 1$. In this case, the algorithm computes the square root of $a^{n-1}$, that is $a^{{n-1} \\over 2}$. If the result is $\\not\\equiv_n \\pm 1$, it means that $n$ has a nontrivial square root of $1$ and therefore it is composite. If it is $1$, the algorithm tries to find a nontrivial square root of $n$ again etc."
   ]
  },
  {
   "cell_type": "code",
   "execution_count": 1,
   "metadata": {},
   "outputs": [],
   "source": [
    "from random import *\n",
    "\n",
    "# Tries to determine whether n is prime by running witness_test \n",
    "# on k random potential witnesses.\n",
    "# Returns false if any of these witnesses determines n is composite.\n",
    "# Returns true otherwise.\n",
    "def is_probable_prime(n, witness_test, k = 50):\n",
    "    for i in range(k):\n",
    "        a = randint(1, n - 1)\n",
    "        if witness_test(a, n):\n",
    "            return False\n",
    "    return True\n",
    "\n",
    "# Returns true if Miller-Rabin witness test shows that n\n",
    "# is composite using the witness a.\n",
    "def is_miller_rabin_witness(a, n):\n",
    "    if pow(a, n - 1, n) != 1:\n",
    "        return True\n",
    "    k = n - 1\n",
    "    while k % 2 == 0:\n",
    "        k //= 2\n",
    "        res = pow(a, k, n)\n",
    "        if res == -1 + n:\n",
    "            return False\n",
    "        if res != 1:\n",
    "            # Found square root of 1 different from +/- 1.\n",
    "            return True\n",
    "    return False\n",
    "\n",
    "def is_miller_rabin_probable_prime(n):\n",
    "    return is_probable_prime(n, is_miller_rabin_witness)"
   ]
  },
  {
   "cell_type": "markdown",
   "metadata": {},
   "source": [
    "__Notes__\n",
    "\n",
    "* If the input is prime, the test is always correct.\n",
    "* If, for a given composite $n$, the number of witnesses between $1$ and $n-1$ is $w$, then the test will succeed with probability $1-\\left({{n-1-w}\\over{n-1}}\\right)^k$.\n",
    "* We will show later that for Miller-Rabin at least half of these numbers are witnesses. Therefore, for $k=50$, the probability of success is at least $1 - \\left({1 \\over 2}\\right)^{50}$.\n",
    "* Our version is slightly different from the classic version of the algorithm. It may be a little slower in some cases, but it is a little simpler and still runs in polynomial time.\n",
    "\n",
    "__Examples__\n",
    "\n",
    "What is remarkable is that before Miller-Rabin (and Solovay-Strassen), there wasn't a way to be confident that a big number, say with 100 digits, was prime, except for very special cases such as Mersenne Primes.\n",
    "\n",
    "Miller-Rabin changes that. Now we can determine in less than a second the first 100-digit prime:"
   ]
  },
  {
   "cell_type": "code",
   "execution_count": 2,
   "metadata": {},
   "outputs": [
    {
     "name": "stdout",
     "output_type": "stream",
     "text": [
      "The first 100-digit prime is...\n",
      "\n",
      "1000000000000000000000000000000000000000000000000000000000000000000000000000000000000000000000000289\n"
     ]
    }
   ],
   "source": [
    "d = 100\n",
    "print(\"The first \", d,\"-digit prime is...\\n\", sep = '')\n",
    "n = 10**(d-1)\n",
    "while not is_miller_rabin_probable_prime(n):\n",
    "    n += 1\n",
    "print(n)"
   ]
  },
  {
   "cell_type": "markdown",
   "metadata": {},
   "source": [
    "We can also determine primes with only 1's."
   ]
  },
  {
   "cell_type": "code",
   "execution_count": 3,
   "metadata": {},
   "outputs": [
    {
     "name": "stdout",
     "output_type": "stream",
     "text": [
      "11\n",
      "\n",
      "1111111111111111111\n",
      "\n",
      "11111111111111111111111\n",
      "\n",
      "11111111111111111111111111111111111111111111111111111111111111111111111111111111111111111111111111111111111111111111111111111111111111111111111111111111111111111111111111111111111111111111111111111111111111111111111111111111111111111111111111111111111111111111111111111111111111111111111111111111111111111111111111111\n",
      "\n"
     ]
    }
   ],
   "source": [
    "for d in range(2, 500):\n",
    "    n = (10**d - 1)//9\n",
    "    if is_miller_rabin_probable_prime(n):\n",
    "        print(n)\n",
    "        print()"
   ]
  },
  {
   "cell_type": "markdown",
   "metadata": {},
   "source": [
    "Primes that are the concatenation of primes:"
   ]
  },
  {
   "cell_type": "code",
   "execution_count": 4,
   "metadata": {},
   "outputs": [
    {
     "name": "stdout",
     "output_type": "stream",
     "text": [
      "2\n",
      "\n",
      "23\n",
      "\n",
      "2357\n",
      "\n",
      "2357111317192329313741434753596167717379838997101103107109113127131137139149151157163167173179181191193197199211223227229233239241251257263269271277281283293307311313317331337347349353359367373379383389397401409419421431433439443449457461463467479487491499503509521523541547557563569571577587593599601607613617619631641643647653659661673677683691701709719\n",
      "\n"
     ]
    }
   ],
   "source": [
    "n = 0\n",
    "for p in range(2, 1000):\n",
    "    if is_miller_rabin_probable_prime(p):\n",
    "        if p < 10:\n",
    "            n = n*10 + p\n",
    "        elif p < 100:\n",
    "            n = n*100 + p\n",
    "        elif p < 1000:\n",
    "            n = n*1000 + p\n",
    "        else:\n",
    "            n = n*10000 + p\n",
    "        if is_miller_rabin_probable_prime(n):\n",
    "            print(n)\n",
    "            print()"
   ]
  },
  {
   "cell_type": "markdown",
   "metadata": {},
   "source": [
    "## Other Primality Tests\n",
    "\n",
    "In this notebook, witnesses will refer to witnesses of __compositeness__ of a number $n$. A number $a$ \n",
    "is a witness of compositeness of $n$, according to some witness function, if running the function on input $a$ and $n$ returns true.\n",
    "\n",
    "In general the more witnesses there are for $n$, the better the witness function.\n",
    "\n",
    "There are other witness functions which are simpler than Miller-Rabin, but they are not as good. They rank as follows:\n",
    "\n",
    "$$\\mathrm{Divisor < GCD < Fermat < Euler < Miller-Rabin}$$\n",
    "\n",
    "### Divisor trial test\n",
    "\n",
    "This is the simple test used in the traditional primality algorithm. The witnesses are the nontrivial divisors of $n$. \n",
    "\n",
    "This is a very weak test. For example if $n$ is the product of 2 prime numbers, there are __only $2$ divisor witnesses__."
   ]
  },
  {
   "cell_type": "code",
   "execution_count": 5,
   "metadata": {},
   "outputs": [],
   "source": [
    "# In all these tests, we assume n >= 1 and 0 < a < n.\n",
    "\n",
    "def is_div_witness(a, n):\n",
    "    if a == 1: return False\n",
    "    return n % a == 0"
   ]
  },
  {
   "cell_type": "markdown",
   "metadata": {},
   "source": [
    "### GCD test\n",
    "\n",
    "This test is better than the previous one, but it is still weak.\n",
    "\n",
    "For example when $n$ is the product of 2 large prime numbers $n=pq$, the test fails if $(a, n) = 1$. If $\\phi(n)$ denotes Euler's totient function, there are $\\phi(n)$ non-witnesses, and $n - 1 - \\phi(n)$ witnesses.\n",
    "\n",
    "Since $\\phi(n) = n(1-{1\\over p})(1-{1\\over q})$, there are __only $p + q - 2$ GCD witnesses__, which is very small compared to $n-1$."
   ]
  },
  {
   "cell_type": "code",
   "execution_count": 6,
   "metadata": {},
   "outputs": [],
   "source": [
    "def gcd(a, b):\n",
    "    if b == 0:\n",
    "        return a\n",
    "    return gcd(b, a % b)\n",
    "\n",
    "def is_gcd_witness(a, n):\n",
    "    return gcd(a, n) > 1"
   ]
  },
  {
   "cell_type": "markdown",
   "metadata": {},
   "source": [
    "### Fermat's test\n",
    "\n",
    "This test is based on Fermat's little theorem. It is much better than the 2 previous ones. For __most__ composites, but not all, there are __at least ${n-1}\\over 2$ Fermat witnesses__."
   ]
  },
  {
   "cell_type": "code",
   "execution_count": 7,
   "metadata": {},
   "outputs": [],
   "source": [
    "def is_fermat_witness(a, n):\n",
    "    return pow(a, n - 1, n) != 1"
   ]
  },
  {
   "cell_type": "markdown",
   "metadata": {},
   "source": [
    "### Euler's test\n",
    "\n",
    "This test is better than Fermat's but as not as good as Miller-Rabin. For __all__ composites, there at __at least ${n-1}\\over 2$ Miller-Rabin witnesses__, but this is not the case for Euler witnesses."
   ]
  },
  {
   "cell_type": "code",
   "execution_count": 8,
   "metadata": {},
   "outputs": [],
   "source": [
    "def is_euler_witness(a, n):\n",
    "    if n % 2 == 0: return False\n",
    "    b = pow(a, (n - 1) // 2, n)\n",
    "    return b != 1 and b != -1 + n "
   ]
  },
  {
   "cell_type": "markdown",
   "metadata": {},
   "source": [
    "## Comparing Primality Tests\n",
    "\n",
    "Let's count the proportion of witnesses for some composites."
   ]
  },
  {
   "cell_type": "code",
   "execution_count": 9,
   "metadata": {},
   "outputs": [],
   "source": [
    "# Counts the number of witnesses between 1 and n - 1.\n",
    "def count_witnesses(n, is_witness):\n",
    "    count = 0\n",
    "    for a in range(1, n):\n",
    "        if is_witness(a, n):\n",
    "            count += 1\n",
    "    return count\n",
    "\n",
    "# Returns True if n is prime.\n",
    "def is_prime(n):\n",
    "    if n <= 1: return False\n",
    "    if n == 2: return True\n",
    "    if n % 2 == 0: return False\n",
    "    i = 3\n",
    "    while (i*i <= n):\n",
    "        if n % i == 0:\n",
    "            return False\n",
    "        i += 2\n",
    "    return True\n",
    "\n",
    "def count_witnesses_for_list(list, counting_method = count_witnesses):\n",
    "    print('Percentage of witnesses for n:')\n",
    "    print()\n",
    "    print('              n      divisor      gcd       fermat     euler   miller-rabin')\n",
    "    print()\n",
    "    for n in list:\n",
    "        if n % 2 == 0 or is_prime(n):\n",
    "            continue\n",
    "        print('%15d' % n, end = ' ')\n",
    "        for is_witness in [is_div_witness, \n",
    "                           is_gcd_witness, \n",
    "                           is_fermat_witness, \n",
    "                           is_euler_witness, \n",
    "                           is_miller_rabin_witness]:\n",
    "            count = counting_method(n, is_witness)\n",
    "            print('%10d' % (count*100//(n-1)), end = ' ')\n",
    "        print()"
   ]
  },
  {
   "cell_type": "markdown",
   "metadata": {},
   "source": [
    "We exclude prime numbers, which obviously do not have any witnesses for these tests. We exclude even numbers since they aren't handled by Euler's test. They are obviously composite anyway.\n",
    "\n",
    "__Composites up to 100__\n",
    "\n",
    "Note that the divisor test is poor even for small numbers."
   ]
  },
  {
   "cell_type": "code",
   "execution_count": 10,
   "metadata": {},
   "outputs": [
    {
     "name": "stdout",
     "output_type": "stream",
     "text": [
      "Percentage of witnesses for n:\n",
      "\n",
      "              n      divisor      gcd       fermat     euler   miller-rabin\n",
      "\n",
      "              9         12         25         75         75         75 \n",
      "             15         14         42         71         85         85 \n",
      "             21         10         40         80         80         90 \n",
      "             25          4         16         83         83         83 \n",
      "             27          7         30         92         92         92 \n",
      "             33          6         37         87         87         93 \n",
      "             35          5         29         88         94         94 \n",
      "             39          5         36         89         94         94 \n",
      "             45          9         45         81         90         95 \n",
      "             49          2         12         87         87         87 \n",
      "             51          4         36         92         96         96 \n",
      "             55          3         25         92         96         96 \n",
      "             57          3         35         92         92         96 \n",
      "             63          6         41         93         96         96 \n",
      "             65          3         25         75         75         90 \n",
      "             69          2         35         94         94         97 \n",
      "             75          5         45         94         97         97 \n",
      "             77          2         21         94         94         97 \n",
      "             81          3         32         97         97         97 \n",
      "             85          2         23         80         90         92 \n",
      "             87          2         34         95         97         97 \n",
      "             91          2         20         60         80         80 \n",
      "             93          2         34         95         95         97 \n",
      "             95          2         23         95         97         97 \n",
      "             99          4         38         95         97         97 \n"
     ]
    }
   ],
   "source": [
    "count_witnesses_for_list(range(2, 101))"
   ]
  },
  {
   "cell_type": "markdown",
   "metadata": {},
   "source": [
    "__Composites from 10000 to 10100__\n",
    "\n",
    "For these larger numbers, divisor test is very poor. GCD test is poor for several numbers. Other tests are good for these numbers."
   ]
  },
  {
   "cell_type": "code",
   "execution_count": 11,
   "metadata": {},
   "outputs": [
    {
     "name": "stdout",
     "output_type": "stream",
     "text": [
      "Percentage of witnesses for n:\n",
      "\n",
      "              n      divisor      gcd       fermat     euler   miller-rabin\n",
      "\n",
      "          10001          0          2         99         99         99 \n",
      "          10003          0         14         99         99         99 \n",
      "          10005          0         50         99         99         99 \n",
      "          10011          0         35         97         99         99 \n",
      "          10013          0         13         99         99         99 \n",
      "          10015          0         20         99         99         99 \n",
      "          10017          0         43         99         99         99 \n",
      "          10019          0          2         99         99         99 \n",
      "          10021          0          9         99         99         99 \n",
      "          10023          0         38         99         99         99 \n",
      "          10025          0         20         99         99         99 \n",
      "          10027          0          3         96         98         98 \n",
      "          10029          0         33         99         99         99 \n",
      "          10031          0         14         99         99         99 \n",
      "          10033          0          2         99         99         99 \n",
      "          10035          0         46         99         99         99 \n",
      "          10041          0         33         99         99         99 \n",
      "          10043          0         10         99         99         99 \n",
      "          10045          0         33         99         99         99 \n",
      "          10047          0         37         99         99         99 \n",
      "          10049          0          7         99         99         99 \n",
      "          10051          0          9         99         99         99 \n",
      "          10053          0         33         99         99         99 \n",
      "          10055          0         20         99         99         99 \n",
      "          10057          0          1         99         99         99 \n",
      "          10059          0         42         99         99         99 \n",
      "          10063          0          3         99         99         99 \n",
      "          10065          0         52         99         99         99 \n",
      "          10071          0         33         99         99         99 \n",
      "          10073          0         14         99         99         99 \n",
      "          10075          0         28         99         99         99 \n",
      "          10077          0         33         99         99         99 \n",
      "          10081          0          6         97         97         99 \n",
      "          10083          0         33         99         99         99 \n",
      "          10085          0         20         99         99         99 \n",
      "          10087          0         22         99         99         99 \n",
      "          10089          0         37         99         99         99 \n",
      "          10095          0         46         99         99         99 \n",
      "          10097          0          4         99         99         99 \n"
     ]
    }
   ],
   "source": [
    "count_witnesses_for_list(range(10000, 10100))"
   ]
  },
  {
   "cell_type": "markdown",
   "metadata": {},
   "source": [
    "## Carmichael Numbers\n",
    "\n",
    "__Small Carmichael Numbers__\n",
    "\n",
    "So far, we know that the divisor and gcd tests are not good enough. Other tests looks pretty good. Let's look more in detail at Fermat's test. Does it ever do worse than 50%?\n",
    "\n",
    "Let's find out:"
   ]
  },
  {
   "cell_type": "code",
   "execution_count": 12,
   "metadata": {},
   "outputs": [
    {
     "name": "stdout",
     "output_type": "stream",
     "text": [
      "Percentage of witnesses for n:\n",
      "\n",
      "              n      divisor      gcd       fermat     euler   miller-rabin\n",
      "\n",
      "            561          1         42         42         71         98 \n",
      "           1105          0         30         30         65         97 \n",
      "           1729          0         25         25         25         90 \n",
      "           2465          0         27         27         27         97 \n",
      "           2821          0         23         23         61         90 \n"
     ]
    }
   ],
   "source": [
    "charmichael_numbers = []\n",
    "for n in range(2, 3000):\n",
    "    if n % 2 == 0 or is_prime(n):\n",
    "        continue\n",
    "    count = count_witnesses(n, is_fermat_witness)\n",
    "    if count < (n - 1) // 2:\n",
    "        charmichael_numbers.append(n)\n",
    "\n",
    "count_witnesses_for_list(charmichael_numbers)"
   ]
  },
  {
   "cell_type": "markdown",
   "metadata": {},
   "source": [
    "So indeed, there are composites for which Fermat doesn't do as well. In fact, for these composites, called Carmichael numbers, the only witnesses are the trivial ones, the ones that have a factor in common with $n$. This is why the \"gcd\" and \"fermat\" column are identical.\n",
    "\n",
    "__651693055693681__\n",
    "\n",
    "For some Carmichael numbers, Fermat and Euler are really bad. For example for $n = 651693055693681$.\n",
    "\n",
    "Since it's a large number, we will only estimate the proportion of composites."
   ]
  },
  {
   "cell_type": "code",
   "execution_count": 13,
   "metadata": {},
   "outputs": [
    {
     "name": "stdout",
     "output_type": "stream",
     "text": [
      "Percentage of witnesses for n:\n",
      "\n",
      "              n      divisor      gcd       fermat     euler   miller-rabin\n",
      "\n",
      "651693055693681          0          0          0          0         87 \n"
     ]
    }
   ],
   "source": [
    "def estimate_witnesses(n, is_witness):\n",
    "    count = 0\n",
    "    for k in range(0, 10000):\n",
    "        if is_witness(randint(1, n-1), n):\n",
    "            count += 1\n",
    "    return count * (n - 1) / 10000\n",
    "\n",
    "count_witnesses_for_list([651693055693681], estimate_witnesses)"
   ]
  },
  {
   "cell_type": "markdown",
   "metadata": {},
   "source": [
    "In fact, $n = 651693055693680$ is in very special number. It is the product of $3$ prime numbers $p$, $q$ and $r$ such that:\n",
    "* $p-1 \\mid n-1$\n",
    "* $q-1 \\mid n-1$\n",
    "* $r-1 \\mid n-1$"
   ]
  },
  {
   "cell_type": "code",
   "execution_count": 14,
   "metadata": {},
   "outputs": [],
   "source": [
    "n = 651693055693681\n",
    "p = 72931\n",
    "q = 87517\n",
    "r = 102103\n",
    "\n",
    "assert(n == p*q*r)\n",
    "assert((n - 1) % (p - 1) == 0)\n",
    "assert((n - 1) % (q - 1) == 0)\n",
    "assert((n - 1) % (r - 1) == 0)"
   ]
  },
  {
   "cell_type": "markdown",
   "metadata": {},
   "source": [
    "For such numbers $(a, p) = 1$ implies $a^{n-1} \\equiv_p 1$, therefore they only have $n - 1 - \\phi(n)$ witnesses.\n",
    "\n",
    "__Proof__\n",
    "\n",
    "Since $p$ is prime, if $(a, p) = 1$, $a^{p-1} \\equiv_p 1$. And since $p-1 \\mid n-1$: $a^{n-1} \\equiv_p 1$.\n",
    "\n",
    "Similarly:\n",
    "* if $(a, q) = 1$, $a^{n-1} \\equiv_q 1$\n",
    "* if $(a, r) = 1$, $a^{n-1} \\equiv_r 1$\n",
    "\n",
    "This means, using the Chinese Remainder Theorem, that if $(a, n) = 1$, $a^{n-1} \\equiv_n 1$.\n",
    "\n",
    "That is, even though $n$ is composite, it is pseudoprime in $\\phi(n)$ basis. Since: \n",
    "\n",
    "$$\\phi(n) = n\\left(1-{1 \\over p}\\right)\\left(1-{1 \\over q}\\right)\\left(1-{1 \\over r}\\right)$$\n",
    "\n",
    "and $p$, $q$ and $r$ are large primes, ${\\phi(n)} \\over n$ is close to $1$.\n",
    "\n",
    "__Chernick's Carmichael numbers__\n",
    "\n",
    "Chernick noted, and this is easy to verify, that if $6k + 1$, $12k + 1$ and $18k + 1$ are prime then the product is a Carmichael number.\n",
    "\n",
    "Let's try to find a few such numbers:"
   ]
  },
  {
   "cell_type": "code",
   "execution_count": 15,
   "metadata": {},
   "outputs": [
    {
     "name": "stdout",
     "output_type": "stream",
     "text": [
      "Percentage of witnesses for n:\n",
      "\n",
      "              n      divisor      gcd       fermat     euler   miller-rabin\n",
      "\n",
      "           1729          0         24         24         24         90 \n",
      "         294409          0          4          5         53         92 \n",
      "       56052361          0          0          0          0         87 \n",
      "      118901521          0          0          0          0         87 \n",
      "      172947529          0          0          0          0         87 \n",
      "      216821881          0          0          0          0         87 \n",
      "      228842209          0          0          0         49         93 \n",
      "     1299963601          0          0          0         49         93 \n",
      "     2301745249          0          0          0          0         87 \n",
      "     9624742921          0          0          0          0         87 \n",
      "    11346205609          0          0          0         50         92 \n",
      "    13079177569          0          0          0         50         93 \n",
      "    21515221081          0          0          0          0         87 \n",
      "    27278026129          0          0          0         49         92 \n",
      "    65700513721          0          0          0         49         91 \n",
      "    71171308081          0          0          0         49         92 \n",
      "   100264053529          0          0          0         50         91 \n"
     ]
    }
   ],
   "source": [
    "chernick_numbers = []\n",
    "\n",
    "for k in range(0, 500):\n",
    "    p = 6*k + 1\n",
    "    q = 12*k + 1\n",
    "    r = 18*k + 1\n",
    "    if is_prime(p) and is_prime(q) and is_prime(r):\n",
    "        chernick_numbers.append(p * q * r)\n",
    "\n",
    "count_witnesses_for_list(chernick_numbers, estimate_witnesses)"
   ]
  },
  {
   "cell_type": "markdown",
   "metadata": {},
   "source": [
    "## Proof of Miller-Rabin\n",
    "\n",
    "So far, from our experiments, we know that, of the 5 tests, only Miller-Rabin does consistently well.\n",
    "\n",
    "In fact, we will prove that it does well on __any__ composite.\n",
    "\n",
    "First a lemma.\n",
    "\n",
    "__Lemma:__ Carmichael numbers are divisible by 2 different primes.\n",
    "\n",
    "__Proof:__ If $n$ is prime, obviously it cannot be a Carmichael number. Let's prove that $n$ is not a power of prime $p$: $n \\neq p^k$, with $k \\geq 2$.\n",
    "\n",
    "Since $Z^*_{p^k}$ is cyclic, it has a generator $g$. Therefore $(g^1, g^2, \\ldots, g^i, \\ldots )$ is a sequence of period $\\phi(p^k)$, with $g^{\\phi(p^k)} = 1$. Since $\\phi(p^k) = p^k - p$, we have $\\phi(p^k) < p^k - 1 < 2\\phi(p^k)$, which means $g^{n - 1} \\not\\equiv_n 1$.\n",
    "\n",
    "__Theorem:__ if $n$ is composite, there are at least ${n-1}\\over{2}$ Miller-Rabin witnesses.\n",
    "\n",
    "__Proof:__ For each $a$ in $Z^*_n$, consider the sequence that goes on while $2^k \\mid n-1$.\n",
    "\n",
    "$$s(a) = (a^{{n-1} \\over 1}, a^{{n-1} \\over 2}, a^{{n-1} \\over 4}, \\ldots )$$\n",
    "\n",
    "We can partition $Z^*_n$, according to how that sequence looks like: \n",
    "* $W_{\\alpha}(n)$: $\\{\\alpha, \\ldots\\}$, $\\alpha \\not\\equiv_n 1$ (Fermat witness) \n",
    "* $W_{\\beta}(n)$: $\\{1, 1, \\ldots, 1, \\beta, \\ldots\\}$, $\\beta \\not\\equiv \\pm 1$ (nontrivial square root of $1$).\n",
    "* $L_{-1}(M)$: $\\{1, 1, \\ldots, 1, -1, \\ldots \\}$.\n",
    "* $L_1(M)$: $\\{1, 1, \\ldots, 1\\}$ \n",
    "\n",
    "$$Z^*_n = W_\\alpha(n) \\cup W_\\beta(n) \\cup L_1(n) \\cup L_{-1}(n)$$ \n",
    "\n",
    "Let's now prove the theorem, by distinguishing 2 cases.\n",
    "\n",
    "__case 1: n is not a Carmichael number__\n",
    "\n",
    "It's easy to see that $W_\\beta(n) \\cup L_1(n) \\cup L_{-1}(n)$ is a subgroup of $Z^*_n$. Since $W_{\\alpha}(n)$ is not empty, the subgroup is proper. It has at most ${\\phi(n)} \\over 2$ elements, since the order of a subgroup divides the order of the group (Lagrange's theorem).\n",
    "\n",
    "That is, there at most ${{n - 1} \\over {2}}$ liars, or equivalently at least ${{n - 1} \\over {2}}$ witnesses.\n",
    "\n",
    "__case 2: n is a Carmichael number__\n",
    "\n",
    "Note that $-1 \\in L_{-1}(n)$ and therefore $L_{-1}(n)$ is not empty. Among all the elements of $L_{-1}(n)$, consider $u \\in L_{-1}(n)$ such that the index $i$ for the first $-1$ in $s(u)$ is minimized.\n",
    "\n",
    "Consider the set $B$ of numbers such that their sequence starts with $i-1$ 1's followed by $\\pm 1$.\n",
    "\n",
    "Clearly $L_{1}(n) \\cup L_{-1}(n) \\subseteq B$ and $B$ is a subgroup of $Z^*_n$.\n",
    "\n",
    "So, following the same reasoning as before, it's enough to show that $Z^*_n - B$ has at least 1 element.\n",
    "\n",
    "We have $u^{{n-1} \\over {2^i}} \\equiv_n -1$\n",
    "\n",
    "Let's write $n = n_1n_2$, with $(n_1,n_2)=1$. This is possible according to the previous lemma.\n",
    "\n",
    "Then $u^{{n-1} \\over {2^i}} \\equiv_{n_1} -1$ and $u^{{n-1} \\over {2^i}} \\equiv_{n_2} -1$.\n",
    "\n",
    "Consider now the unique $v$ such that $v \\equiv_{n_1} 1$ and $v \\equiv_{n_2} u$.\n",
    "\n",
    "Then $v^{{n-1} \\over {2^i}} \\not\\equiv_n \\pm 1$ and $v^{{n-1} \\over {2^{i-1}}} \\equiv_n 1$. Therefore $v \\in Z^*_n - B$.\n"
   ]
  }
 ],
 "metadata": {
  "kernelspec": {
   "display_name": "Python 3",
   "language": "python",
   "name": "python3"
  },
  "language_info": {
   "codemirror_mode": {
    "name": "ipython",
    "version": 3
   },
   "file_extension": ".py",
   "mimetype": "text/x-python",
   "name": "python",
   "nbconvert_exporter": "python",
   "pygments_lexer": "ipython3",
   "version": "3.6.5"
  }
 },
 "nbformat": 4,
 "nbformat_minor": 2
}
