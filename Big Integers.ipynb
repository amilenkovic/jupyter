{
 "cells": [
  {
   "cell_type": "markdown",
   "metadata": {},
   "source": [
    "<div style=\"text-align: right\">Paul Novaes<br>July 2018</div> \n",
    "\n",
    "# Big Integers\n",
    "\n",
    "The goal of this notebook is to show how to perform the 4 basic arithmetic operations on big integers.\n",
    "\n",
    "By big integer, we mean an arbitrary nonnegative integer, with no limit on its size, for example with 1,000,000 digits.\n",
    "\n",
    "Though Python already supports big integers, the following algorithms are interesting in themselves and can be used in other languages and environments.\n",
    "\n",
    "## Big Integer Representation\n",
    "\n",
    "We will represent big integers as arrays of digits. For example 123 will be represented by $[1, 2, 3]$.\n",
    "\n",
    "The following functions will be used later.\n",
    "\n",
    "__Conversions between int and big integer__"
   ]
  },
  {
   "cell_type": "code",
   "execution_count": 1,
   "metadata": {},
   "outputs": [],
   "source": [
    "# Returns a big integer from an int.\n",
    "def big_integer_from_int(n):\n",
    "    assert(isinstance(n, int) and n >= 0)\n",
    "    if n == 0: return [0]\n",
    "    big_integer = []\n",
    "    while n > 0:\n",
    "        big_integer.append(n % 10)\n",
    "        n = n // 10\n",
    "    return big_integer[::-1]\n",
    "\n",
    "# Returns an int from a big_integer.\n",
    "def big_integer_to_int(n):\n",
    "    result = 0\n",
    "    for i in range(0, len(n)):\n",
    "        result = result*10 + n[i]\n",
    "    return result"
   ]
  },
  {
   "cell_type": "markdown",
   "metadata": {},
   "source": [
    "__Easy digit access__"
   ]
  },
  {
   "cell_type": "code",
   "execution_count": 2,
   "metadata": {},
   "outputs": [],
   "source": [
    "# Gets n_i in n = n_k...n_1n_0.\n",
    "def big_integer_get_digit(n, i):\n",
    "    if i >= len(n): return 0\n",
    "    return n[len(n) - 1 - i]\n",
    "\n",
    "# Sets n_i to d in n = n_k...n_1n_0.\n",
    "def big_integer_set_digit(n, i, d):\n",
    "    n[len(n) - 1 - i] = d"
   ]
  },
  {
   "cell_type": "markdown",
   "metadata": {},
   "source": [
    "__Utility functions__"
   ]
  },
  {
   "cell_type": "code",
   "execution_count": 3,
   "metadata": {},
   "outputs": [],
   "source": [
    "# Trims leading zeroes, from a possibly improper representation of a big integer.\n",
    "def big_integer_trim(n):\n",
    "    leading_zeroes = 0\n",
    "    for i in range(len(n) - 1):\n",
    "        if n[i] == 0:\n",
    "            leading_zeroes += 1\n",
    "        else:\n",
    "            break\n",
    "    del n[0:leading_zeroes]\n",
    "    big_integer_assert(n)\n",
    "    \n",
    "# Asserts n is a proper representation of a big integer.\n",
    "def big_integer_assert(n):\n",
    "    assert (not(len(n) > 1 and n[0] == 0))\n",
    "    for d in n:\n",
    "        is_digit = isinstance(d, int) and d >= 0 and d <= 9\n",
    "        assert(is_digit)"
   ]
  },
  {
   "cell_type": "markdown",
   "metadata": {},
   "source": [
    "__Unit Test__"
   ]
  },
  {
   "cell_type": "code",
   "execution_count": 4,
   "metadata": {},
   "outputs": [
    {
     "name": "stdout",
     "output_type": "stream",
     "text": [
      "<function test_big_integer_representation at 0x10aed1950> succeeded\n"
     ]
    }
   ],
   "source": [
    "def test_big_integer_representation():\n",
    "    for i in range(100):\n",
    "        n = big_integer_from_int(i)\n",
    "        big_integer_assert(n)\n",
    "        return big_integer_to_int(n) == i\n",
    "\n",
    "def run_test(test):\n",
    "    if test():\n",
    "        print(test, 'succeeded')\n",
    "    else:\n",
    "        print(test, 'failed')\n",
    "        assert(False)\n",
    "        \n",
    "run_test(test_big_integer_representation)"
   ]
  },
  {
   "cell_type": "markdown",
   "metadata": {},
   "source": [
    "## Addition\n",
    "\n",
    "We use the standard algorithm. It only assumes that we have an \"addition table\", that is that we know how to add 2 individual digits."
   ]
  },
  {
   "cell_type": "code",
   "execution_count": 5,
   "metadata": {},
   "outputs": [],
   "source": [
    "# Returns a + b.\n",
    "def big_integer_add(a, b):\n",
    "    def add_digits(d1, d2, carry):\n",
    "        assert(carry <= 1)\n",
    "        sum = d1 + d2 + carry\n",
    "        return int(sum / 10), sum % 10\n",
    "    big_integer_assert(a)\n",
    "    big_integer_assert(b)\n",
    "    num_digits = max(len(a), len(b)) + 1\n",
    "    sum = [0 for i in range(num_digits)]\n",
    "    # Add pairs of digits starting from the right and set the carry bit appropriately.\n",
    "    for i in range(num_digits):\n",
    "        carry, digit_sum = add_digits(big_integer_get_digit(a, i), \n",
    "                                      big_integer_get_digit(b, i), \n",
    "                                      big_integer_get_digit(sum, i))\n",
    "        big_integer_set_digit(sum, i, digit_sum)\n",
    "        if (carry > 0):\n",
    "            big_integer_set_digit(sum, i + 1, 1)\n",
    "    big_integer_trim(sum)\n",
    "    return sum"
   ]
  },
  {
   "cell_type": "markdown",
   "metadata": {},
   "source": [
    "__Unit Test__"
   ]
  },
  {
   "cell_type": "code",
   "execution_count": 6,
   "metadata": {},
   "outputs": [
    {
     "name": "stdout",
     "output_type": "stream",
     "text": [
      "<function test_big_integer_add at 0x10aef1378> succeeded\n"
     ]
    }
   ],
   "source": [
    "def test_big_integer_add():\n",
    "    for i in range(200):\n",
    "        for j in range(200):\n",
    "            a = big_integer_from_int(i)\n",
    "            b = big_integer_from_int(j)\n",
    "            sum = big_integer_add(a, b)\n",
    "            if i + j != big_integer_to_int(sum):\n",
    "                return False\n",
    "    return True\n",
    "        \n",
    "run_test(test_big_integer_add)"
   ]
  },
  {
   "cell_type": "markdown",
   "metadata": {},
   "source": [
    "__Example__"
   ]
  },
  {
   "cell_type": "code",
   "execution_count": 7,
   "metadata": {},
   "outputs": [
    {
     "name": "stdout",
     "output_type": "stream",
     "text": [
      "\n",
      "2 * 10715086071862673209484250490600018105614048117055336074437503883703510511249361224931983788156958581275946729175531468251871452856923140435984577574698574803934567774824230985421074605062371141877954182153046474983581941267398767559165543946077062914571196477686542167660429831652624386837205668069376 = 21430172143725346418968500981200036211228096234110672148875007767407021022498722449863967576313917162551893458351062936503742905713846280871969155149397149607869135549648461970842149210124742283755908364306092949967163882534797535118331087892154125829142392955373084335320859663305248773674411336138752\n"
     ]
    }
   ],
   "source": [
    "def twice(a):\n",
    "    return big_integer_add(a, a)\n",
    "        \n",
    "n = 2**1000\n",
    "a = big_integer_from_int(n)\n",
    "result = big_integer_to_int(twice(a))\n",
    "\n",
    "assert(result == n * 2)\n",
    "print('\\n2 *', n, '=', result)"
   ]
  },
  {
   "cell_type": "markdown",
   "metadata": {},
   "source": [
    "## Subtraction\n",
    "\n",
    "We use again the standard algorithm, and we only assume that we have a \"subtraction table\" that let us subtract 2 individual digits."
   ]
  },
  {
   "cell_type": "code",
   "execution_count": 8,
   "metadata": {},
   "outputs": [],
   "source": [
    "# Returns a - b.\n",
    "# Assumes that a >= b.\n",
    "def big_integer_subtract(a, b):\n",
    "    def subtract_digits(d1, d2, borrow):\n",
    "        assert(borrow <= 1)\n",
    "        diff = d1 - d2 - borrow\n",
    "        if diff >= 0: return 0, diff\n",
    "        return 1, diff + 10\n",
    "    big_integer_assert(a)\n",
    "    big_integer_assert(b)\n",
    "    num_digits = len(a) \n",
    "    diff = [0 for i in range(num_digits)]\n",
    "    borrow = 0\n",
    "    # Subtract pairs of digits starting from the right and set the borrow bit appropriately.\n",
    "    for i in range(num_digits):\n",
    "        borrow, digit_diff = subtract_digits(big_integer_get_digit(a, i), \n",
    "                                             big_integer_get_digit(b, i), \n",
    "                                             borrow)\n",
    "        big_integer_set_digit(diff, i, digit_diff)\n",
    "    assert(borrow == 0)\n",
    "    big_integer_trim(diff)\n",
    "    return diff"
   ]
  },
  {
   "cell_type": "markdown",
   "metadata": {},
   "source": [
    "__Unit Test__"
   ]
  },
  {
   "cell_type": "code",
   "execution_count": 9,
   "metadata": {},
   "outputs": [
    {
     "name": "stdout",
     "output_type": "stream",
     "text": [
      "<function test_big_integer_subtract at 0x10aef18c8> succeeded\n"
     ]
    }
   ],
   "source": [
    "def test_big_integer_subtract():\n",
    "    for i in range(100):\n",
    "        for j in range(i + 1):\n",
    "            a = big_integer_from_int(i)\n",
    "            b = big_integer_from_int(j)\n",
    "            diff = big_integer_subtract(a, b)\n",
    "            if i - j != big_integer_to_int(diff):\n",
    "                return False\n",
    "    return True\n",
    "\n",
    "run_test(test_big_integer_subtract)"
   ]
  },
  {
   "cell_type": "markdown",
   "metadata": {},
   "source": [
    "__Example__"
   ]
  },
  {
   "cell_type": "code",
   "execution_count": 10,
   "metadata": {},
   "outputs": [
    {
     "name": "stdout",
     "output_type": "stream",
     "text": [
      "\n",
      "10**100 - 1 = 9999999999999999999999999999999999999999999999999999999999999999999999999999999999999999999999999999\n"
     ]
    }
   ],
   "source": [
    "n = 10**100\n",
    "a = big_integer_from_int(n)\n",
    "result = big_integer_to_int(big_integer_subtract(a, [1]))\n",
    "\n",
    "assert(result == n - 1)\n",
    "print('\\n10**100 - 1 =', result)"
   ]
  },
  {
   "cell_type": "markdown",
   "metadata": {},
   "source": [
    "## Multiplication\n",
    "\n",
    "We essentially use the standard method that involves:\n",
    "1. multiplying the multiplicand by the digits in the multiplier\n",
    "2. shifting the partial results appropriately\n",
    "3. adding the partial results\n",
    "\n",
    "For the first step we avoid using a \"multiplication table\". Instead we precompute multiples of the multiplicand by every digit between 0 and 9. This is overkill for small multipliers but it works well here."
   ]
  },
  {
   "cell_type": "code",
   "execution_count": 11,
   "metadata": {},
   "outputs": [],
   "source": [
    "# Shifts n 'k' places to the left. That is, multiplies n by 10**k.\n",
    "def shift_left(n, k):\n",
    "    num_digits = len(n) + k\n",
    "    shifted = [0 for i in range(num_digits)]\n",
    "    for i in range(len(n)):\n",
    "        big_integer_set_digit(shifted, i + k, big_integer_get_digit(n, i))\n",
    "    big_integer_trim(shifted)\n",
    "    return shifted\n",
    "\n",
    "# Returns a * b.\n",
    "def big_integer_multiply(a, b):\n",
    "    product = [0]\n",
    "    # Precompute multiples of 'a'. This is overkill if 'b' is small but it is\n",
    "    # useful when 'b' has many digits, and simplifies the algorithm.\n",
    "    multiples_of_a = [[0] for i in range(10)]\n",
    "    for i in range(1, 10):\n",
    "        multiples_of_a[i] = big_integer_add(multiples_of_a[i-1], a)\n",
    "    # Standard algorithm, where we multiply 'a' by each digit in 'b', shifting the\n",
    "    # result as necessary.\n",
    "    for i in range(len(b)):\n",
    "        b_digit = big_integer_get_digit(b, i)\n",
    "        product = big_integer_add(product, \n",
    "                             shift_left(multiples_of_a[b_digit], i))\n",
    "    return product  "
   ]
  },
  {
   "cell_type": "markdown",
   "metadata": {},
   "source": [
    "__Unit Test__"
   ]
  },
  {
   "cell_type": "code",
   "execution_count": 12,
   "metadata": {},
   "outputs": [
    {
     "name": "stdout",
     "output_type": "stream",
     "text": [
      "<function test_big_integer_multiply at 0x10aef1b70> succeeded\n"
     ]
    }
   ],
   "source": [
    "def test_big_integer_multiply():\n",
    "    for i in range(100):\n",
    "        for j in range(100):\n",
    "            a = big_integer_from_int(i)\n",
    "            b = big_integer_from_int(j)\n",
    "            product = big_integer_multiply(a, b)\n",
    "            if i * j != big_integer_to_int(product):\n",
    "                return False\n",
    "    return True\n",
    "            \n",
    "run_test(test_big_integer_multiply)"
   ]
  },
  {
   "cell_type": "markdown",
   "metadata": {},
   "source": [
    "__Examples__"
   ]
  },
  {
   "cell_type": "code",
   "execution_count": 13,
   "metadata": {},
   "outputs": [
    {
     "name": "stdout",
     "output_type": "stream",
     "text": [
      "\n",
      "100! = 93326215443944152681699238856266700490715968264381621468592963895217599993229915608941463976156518286253697920827223758251185210916864000000000000000000000000\n",
      "\n",
      "1 terabyte = 1099511627776\n"
     ]
    }
   ],
   "source": [
    "def factorial(n):\n",
    "    result = [1]\n",
    "    while n != [0]:\n",
    "        result = big_integer_multiply(result, n)\n",
    "        n = big_integer_subtract(n, [1])\n",
    "    return result\n",
    "\n",
    "def power(n, m):\n",
    "    result = [1]\n",
    "    while m != [0]:\n",
    "        result = big_integer_multiply(result, n)\n",
    "        m = big_integer_subtract(m, [1])\n",
    "    return result\n",
    "\n",
    "import math\n",
    "\n",
    "result = big_integer_to_int(factorial(big_integer_from_int(100)))\n",
    "assert(result == math.factorial(100))\n",
    "print('\\n100! =', result)\n",
    "\n",
    "result = big_integer_to_int(power(big_integer_from_int(2), big_integer_from_int(40)))\n",
    "assert(result == 2**40)\n",
    "print('\\n1 terabyte =', result)"
   ]
  },
  {
   "cell_type": "markdown",
   "metadata": {},
   "source": [
    "## Division\n",
    "\n",
    "Standard division is pretty tedious. To compute a/b, we typically consider the first couple of digits of a and b, and try to estimate the first digit d of the division. We then compute b * d and hope that the product is not too small and not to big. Otherwise we try d-1 or d+1.\n",
    "\n",
    "Our algorithm avoids this guessing game, even it is a little bit slower."
   ]
  },
  {
   "cell_type": "code",
   "execution_count": 14,
   "metadata": {},
   "outputs": [],
   "source": [
    "def big_integer_compare(a, b):\n",
    "    big_integer_assert(a)\n",
    "    big_integer_assert(b)\n",
    "    if len(a) > len(b): return 1\n",
    "    if len(a) < len(b): return -1    \n",
    "    num_digits = len(a)    \n",
    "    for i in range(num_digits):\n",
    "        if a[i] > b[i]: return 1\n",
    "        elif a[i] < b[i]: return -1\n",
    "    return 0\n",
    "\n",
    "# Returns q, r with a = q*b + r and r < b.\n",
    "def big_integer_divide(a, b):\n",
    "    big_integer_assert(a)\n",
    "    big_integer_assert(b)\n",
    "    # At all times a = q*b + r and, at the end, r < b.\n",
    "    q = [0]\n",
    "    r = a\n",
    "    while big_integer_compare(r, b) >= 0:\n",
    "        # Remove from r, b*10**k, for k as large as possible.\n",
    "        k = len(r) - len(b)\n",
    "        if big_integer_compare(shift_left(b, k), r) > 0:\n",
    "            k -= 1\n",
    "        q = big_integer_add(shift_left([1], k), q)\n",
    "        r = big_integer_subtract(r, shift_left(b, k))\n",
    "    return q, r"
   ]
  },
  {
   "cell_type": "markdown",
   "metadata": {},
   "source": [
    "__Example__"
   ]
  },
  {
   "cell_type": "code",
   "execution_count": 15,
   "metadata": {
    "scrolled": true
   },
   "outputs": [
    {
     "name": "stdout",
     "output_type": "stream",
     "text": [
      "\n",
      "gcd of 2**512*3**256 and 2**256*3**512 is 16096079122395561512061763913577304064976913480336184419870793713264277662647884811647537309195067118494671396772863385036070451166210844912750004569643271101628982439604781505910612662005364378566656\n"
     ]
    }
   ],
   "source": [
    "def gcd(a, b):\n",
    "    if b == [0]:\n",
    "        return a\n",
    "    q, r = big_integer_divide(a, b)\n",
    "    return gcd(b, r)\n",
    "\n",
    "a = big_integer_from_int(2**512*3**256)\n",
    "b = big_integer_from_int(2**256*3**512)\n",
    "\n",
    "result = big_integer_to_int(gcd(a, b))\n",
    "assert(result == 2**256*3**256)\n",
    "print('\\ngcd of 2**512*3**256 and 2**256*3**512 is', big_integer_to_int(gcd(a, b)))\n",
    "    "
   ]
  },
  {
   "cell_type": "markdown",
   "metadata": {},
   "source": [
    "## Discussion\n",
    "\n",
    "Overall, that was a bit easier than expected.\n",
    "\n",
    "There were a few surprises:\n",
    "* Subtraction is not more difficult than addition. In fact the 2 algorithms are nearly identical.\n",
    "* We don't need a multiplication table to multiply big integers. We can just use addition. This is not optimal, but still OK from a big-O point of view.\n",
    "* Division was surprisingly easy. We don't really need to guess each digit and we don't need to know how to multiply. Again this is not optimal, but OK from a big-O point of view.\n",
    "\n",
    "A few more remarks:\n",
    "* It would be even easier if we dealt with binary, instead of decimal, integers. But we would still need to convert between the 2 representations.\n",
    "* Performance could be improved by representing big integers in a larger base, say 10^5, but the multiplication and division algorithms would become more complicated.\n",
    "* Addition and substraction run in linear time while multiplication and division run in quadratic time which is standard. The space complexity is probably substandard though. "
   ]
  }
 ],
 "metadata": {
  "kernelspec": {
   "display_name": "Python 3",
   "language": "python",
   "name": "python3"
  },
  "language_info": {
   "codemirror_mode": {
    "name": "ipython",
    "version": 3
   },
   "file_extension": ".py",
   "mimetype": "text/x-python",
   "name": "python",
   "nbconvert_exporter": "python",
   "pygments_lexer": "ipython3",
   "version": "3.6.5"
  }
 },
 "nbformat": 4,
 "nbformat_minor": 2
}
