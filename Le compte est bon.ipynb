{
 "cells": [
  {
   "cell_type": "markdown",
   "metadata": {},
   "source": [
    "<div style=\"text-align: right\">Paul Novaes<br>August 2018</div> \n",
    "\n",
    "# Le compte est bon\n",
    "\n",
    "[Le compte est bon](https://en.wikipedia.org/wiki/Des_chiffres_et_des_lettres#Le_compte_est_bon_&#40;%22the_total_is_right%22&#41;) is a TV game show where the goal is to get as close as possible to some target number by using 6 randomly drawn numbers and the 4 arithmetic operations.\n",
    "\n",
    "For example, if the target is __383__ and the numbers are __1, 3, 7, 7, 9, 25__, one possible solution (not necessarily the best) is: \n",
    "\n",
    "$$25 \\times (7 + 9) - 7 \\times (3 - 1) = 386$$\n",
    "\n",
    "The purpose of this notebook is to write a program that solves this problem.\n",
    "\n",
    "## Rules of the Game\n",
    "\n",
    "* The target is a random number between $101$ and $999$.\n",
    "* The 6 other numbers are drawn at random, without replacement from: $$\\{1,1,2,2,3,3,4,4,5,5,6,6,7,7,8,8,9,9,10,10,25,50,75,100\\}$$\n",
    "* Each of the 6 numbers can only be used once, and not all numbers need to be used.\n",
    "* Temporary and final results have to be positive integers.\n",
    "\n",
    "## Draw\n",
    "\n",
    "Python's random.sample function makes drawing a random game very easy:"
   ]
  },
  {
   "cell_type": "code",
   "execution_count": 1,
   "metadata": {},
   "outputs": [],
   "source": [
    "import random\n",
    "\n",
    "# For consistency.\n",
    "random.seed(0)\n",
    "\n",
    "def draw(n = 6):\n",
    "    lo = 101\n",
    "    hi = 999\n",
    "    target = random.randint(lo, hi)\n",
    "    cards = [1,1,2,2,3,3,4,4,5,5,6,6,7,7,8,8,9,9,10,10,25,50,75,100]\n",
    "    return target, sorted(random.sample(cards, n))"
   ]
  },
  {
   "cell_type": "markdown",
   "metadata": {},
   "source": [
    "For example:"
   ]
  },
  {
   "cell_type": "code",
   "execution_count": 2,
   "metadata": {},
   "outputs": [
    {
     "name": "stdout",
     "output_type": "stream",
     "text": [
      "target: 965, cards: [1, 5, 7, 7, 8, 9]\n"
     ]
    }
   ],
   "source": [
    "target, cards = draw()\n",
    "print('target: ', target, ', cards: ', cards, sep = '')"
   ]
  },
  {
   "cell_type": "markdown",
   "metadata": {},
   "source": [
    "## Best solution with exactly n cards\n",
    "\n",
    "We can solve this problem recursively as follows. \n",
    "\n",
    "If there is just 1 card, use that card. If there are 2 cards, try the 4 different operators on the 2 cards. Otherwise, if we have $n > 1$ cards:\n",
    "* choose 2 of the cards $a$ and $b$ and 1 of the operators $op$\n",
    "* replace $a$ and $b$ by $a$ op $b$\n",
    "* solve the problem on the resulting $n - 1$ cards\n",
    "\n",
    "Note that $a+b$ and $a \\times b$ are commutative and $a - b$ and $a \\div b$ only make sense if $a \\geq b$. Since there are ${n \\choose 2}$ ways of choosing 2 cards and 4 ways of choosing 1 operator, the total number of operations $N(n)$ verifies, for $n > 2$:\n",
    "\n",
    "$$N(n) \\leq 4{n \\choose 2} N(n-1)$$\n",
    "\n",
    "The first values are:\n",
    "\n",
    "\\begin{align}\n",
    "N(2) & \\leq & 4 \\\\\n",
    "N(3) & \\leq & 48 \\\\\n",
    "N(4) & \\leq & 1152 \\\\\n",
    "N(5) & \\leq & 46080 \\\\\n",
    "N(6) & \\leq & 2764800\n",
    "\\end{align}\n",
    "\n",
    "Though large, these numbers are __not too__ large and we can do an extensive search. Let's first show how to find the best solution that uses __all__ the cards."
   ]
  },
  {
   "cell_type": "code",
   "execution_count": 3,
   "metadata": {},
   "outputs": [],
   "source": [
    "# Returns the best solution using all cards.\n",
    "def solve_using_all(target, cards):\n",
    "    count = len(cards)\n",
    "    assert count > 0\n",
    "    if len(cards) == 1:        \n",
    "        return cards[0], [cards[0]]\n",
    "    best_reached = 0\n",
    "    best_solution = []\n",
    "    for i in range(count):\n",
    "        for j in range(i + 1, count):\n",
    "            for k in ['+', '-', '*', '/']:\n",
    "                a = cards[i]\n",
    "                b = cards[j]\n",
    "                new_cards = list(cards)\n",
    "                del new_cards[j], new_cards[i]\n",
    "                if a < b: a, b = b, a\n",
    "                if k == '+': result = a + b\n",
    "                if k == '-': result = a - b\n",
    "                if k == '*': result = a * b\n",
    "                if k == '/':\n",
    "                    if b > 0 and a % b == 0:\n",
    "                        result = a // b\n",
    "                    else:\n",
    "                        continue\n",
    "                new_cards.append(result)\n",
    "                reached, solution = solve_using_all(target, new_cards)\n",
    "                if abs(reached - target) < abs(best_reached - target):\n",
    "                    best_reached = reached\n",
    "                    best_solution = [[a, k, b, '=', result]]\n",
    "                    best_solution.extend(solution)\n",
    "                if reached == target:\n",
    "                    return best_reached, best_solution\n",
    "    return best_reached, best_solution"
   ]
  },
  {
   "cell_type": "markdown",
   "metadata": {},
   "source": [
    "For example:"
   ]
  },
  {
   "cell_type": "code",
   "execution_count": 4,
   "metadata": {},
   "outputs": [
    {
     "name": "stdout",
     "output_type": "stream",
     "text": [
      "515 [4, 5, 6, 8, 9, 10]\n",
      "[[6, '*', 4, '=', 24], [24, '-', 10, '=', 14], [14, '*', 8, '=', 112], [112, '-', 9, '=', 103], [103, '*', 5, '=', 515], 515]\n"
     ]
    }
   ],
   "source": [
    "target, cards = draw()\n",
    "print(target, cards)\n",
    "best_reached, best_solution = solve_using_all(target, cards)\n",
    "print(best_solution)"
   ]
  },
  {
   "cell_type": "markdown",
   "metadata": {},
   "source": [
    "Or we can print the solution in a more natural way."
   ]
  },
  {
   "cell_type": "code",
   "execution_count": 5,
   "metadata": {},
   "outputs": [
    {
     "name": "stdout",
     "output_type": "stream",
     "text": [
      "6 * 4 = 24 \n",
      "24 - 10 = 14 \n",
      "14 * 8 = 112 \n",
      "112 - 9 = 103 \n",
      "103 * 5 = 515 \n",
      "\n"
     ]
    }
   ],
   "source": [
    "def print_solution(solution):\n",
    "    for operation in solution:\n",
    "        if type(operation) is int:\n",
    "            if len(solution) == 1:\n",
    "                print(operation)\n",
    "        else:\n",
    "            for token in operation:\n",
    "                print(token, end = ' ')\n",
    "        print()\n",
    "\n",
    "print_solution(best_solution)"
   ]
  },
  {
   "cell_type": "code",
   "execution_count": 6,
   "metadata": {},
   "outputs": [],
   "source": [
    "def test(target, cards, expect):\n",
    "    reached, solution = solve_using_all(target, cards)\n",
    "    assert(abs(target - reached) == abs(target - expect))\n",
    "\n",
    "def unit_tests():\n",
    "    test(1, [1], 1)\n",
    "    test(1, [2], 2)\n",
    "    test(1, [3], 3)\n",
    "    test(10, [1, 1], 2)\n",
    "    test(10, [1, 1, 1], 3)\n",
    "    test(10, [1, 1, 1, 1], 4)\n",
    "    test(10, [1, 1, 1, 1, 1], 6)\n",
    "    test(10, [1, 1, 1, 1, 1, 1], 9)\n",
    "    test(5, [1, 1, 1, 1, 1, 1], 5)\n",
    "    test(1, [1, 1, 1, 1, 1, 1], 1)\n",
    "    test(2, [1, 1, 1, 1, 1, 1], 2)\n",
    "\n",
    "unit_tests()"
   ]
  },
  {
   "cell_type": "markdown",
   "metadata": {},
   "source": [
    "## Shortest Solution\n",
    "\n",
    "Now that we know how to compute the best solution that uses exactly $n$ cards, we can compute, among the best solutions, the shortest one. We use again a brute force approach by looking at subsets with 1, 2, 3, 4, 5 and 6 elements. In total, the number of operations is bounded by\n",
    "\n",
    "$${6 \\choose 2}N(2) + {6 \\choose 3}N(3) + {6 \\choose 4}N(4) + {6 \\choose 5}N(5) + {6 \\choose 6}N(6) = 3059580$$ \n"
   ]
  },
  {
   "cell_type": "code",
   "execution_count": 7,
   "metadata": {},
   "outputs": [],
   "source": [
    "# Returns the number of 1's in the binary representation of n.\n",
    "def count_1_bits(n):\n",
    "    count = 0\n",
    "    while n > 0:\n",
    "        if n & 1 != 0:\n",
    "            count += 1\n",
    "        n = n >> 1\n",
    "    return count\n",
    "\n",
    "# Returns a subset of a set, by using mask to select its elements.\n",
    "def make_subset(set, mask):\n",
    "    subset = []\n",
    "    index = 0\n",
    "    while mask > 0:\n",
    "        if mask & 1 != 0:\n",
    "            subset.append(set[index])\n",
    "        index += 1\n",
    "        mask = mask >> 1\n",
    "    return subset\n",
    "\n",
    "# Returns the best solution using as few cards as possible.\n",
    "def solve_using_any(target, all_cards):\n",
    "    best_reached = 0\n",
    "    best_solution = []\n",
    "    n = len(all_cards)\n",
    "    for i in range(1, n + 1):\n",
    "        for mask in range(2 ** n):\n",
    "            if count_1_bits(mask) == i:\n",
    "                cards = make_subset(all_cards, mask)\n",
    "                reached, solution = solve_using_all(target, cards)\n",
    "                if abs(reached - target) < abs(best_reached - target):\n",
    "                    best_reached = reached\n",
    "                    best_solution = solution\n",
    "                if reached == target:\n",
    "                    return best_reached, best_solution\n",
    "    return best_reached, best_solution\n",
    "\n",
    "# Alias.\n",
    "def solve(target, cards):\n",
    "    return solve_using_any(target, cards)"
   ]
  },
  {
   "cell_type": "code",
   "execution_count": 8,
   "metadata": {},
   "outputs": [],
   "source": [
    "def test_shortest(target, cards, expect, length):\n",
    "    reached, solution = solve(target, cards)\n",
    "    assert(abs(target - reached) == abs(target - expect))\n",
    "    assert(length == len(solution))\n",
    "    \n",
    "def unit_tests_shortest():\n",
    "    test_shortest(1, [1], 1, 1)\n",
    "    test_shortest(1, [2], 0, 0)\n",
    "    test_shortest(1, [3], 0, 0)\n",
    "    test_shortest(10, [1, 1], 2, 2)\n",
    "    test_shortest(10, [1, 1, 1], 3, 3)\n",
    "    test_shortest(10, [1, 1, 1, 1], 4, 4)\n",
    "    test_shortest(10, [1, 1, 1, 1, 1], 6, 5)\n",
    "    test_shortest(10, [1, 1, 1, 1, 1, 1], 9, 6)\n",
    "    test_shortest(5, [1, 1, 1, 1, 1, 1], 5, 5)\n",
    "    test_shortest(1, [1, 1, 1, 1, 1, 1], 1, 1)\n",
    "    test_shortest(2, [1, 1, 1, 1, 1, 1], 2, 2)\n",
    "\n",
    "unit_tests_shortest()"
   ]
  },
  {
   "cell_type": "markdown",
   "metadata": {},
   "source": [
    "## Solving our original game"
   ]
  },
  {
   "cell_type": "code",
   "execution_count": 9,
   "metadata": {},
   "outputs": [
    {
     "name": "stdout",
     "output_type": "stream",
     "text": [
      "target = 383\n",
      "cards = [1, 3, 7, 7, 9, 25]\n",
      "\n",
      "9 + 3 = 12 \n",
      "25 + 7 = 32 \n",
      "32 * 12 = 384 \n",
      "384 - 1 = 383 \n",
      "\n"
     ]
    }
   ],
   "source": [
    "target, cards = 383, [1, 3, 7, 7, 9, 25]\n",
    "print('target =', target)\n",
    "print('cards =', cards)\n",
    "print()\n",
    "reached, solution = solve(target, cards)\n",
    "print_solution(solution)"
   ]
  },
  {
   "cell_type": "markdown",
   "metadata": {},
   "source": [
    "## Most difficult game\n",
    "\n",
    "[http://patquoi.free.fr/lcpdb/](http://patquoi.free.fr/lcpdb/) defines the most difficult game as the game that:\n",
    "* can be solved in 1 way only\n",
    "* requires the 6 cards\n",
    "* and, among those, has the highest intermediary result\n",
    "\n",
    "and concludes, after trying all the possibilities, that it is the following game:"
   ]
  },
  {
   "cell_type": "code",
   "execution_count": 10,
   "metadata": {},
   "outputs": [
    {
     "name": "stdout",
     "output_type": "stream",
     "text": [
      "50 * 10 = 500 \n",
      "500 - 10 = 490 \n",
      "490 * 100 = 49000 \n",
      "49000 - 25 = 48975 \n",
      "48975 / 75 = 653 \n",
      "\n"
     ]
    }
   ],
   "source": [
    "target, cards = 653, [10, 10, 25, 50, 75, 100]\n",
    "reached, solution = solve(target, cards)\n",
    "print_solution(solution)"
   ]
  }
 ],
 "metadata": {
  "kernelspec": {
   "display_name": "Python 3",
   "language": "python",
   "name": "python3"
  },
  "language_info": {
   "codemirror_mode": {
    "name": "ipython",
    "version": 3
   },
   "file_extension": ".py",
   "mimetype": "text/x-python",
   "name": "python",
   "nbconvert_exporter": "python",
   "pygments_lexer": "ipython3",
   "version": "3.6.5"
  }
 },
 "nbformat": 4,
 "nbformat_minor": 2
}
