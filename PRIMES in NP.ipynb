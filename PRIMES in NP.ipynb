{
 "cells": [
  {
   "cell_type": "markdown",
   "metadata": {},
   "source": [
    "<div style=\"text-align: right\">Paul Novaes<br>July 2018</div> \n",
    "\n",
    "# PRIMES in NP\n",
    "\n",
    "This notebook shows that primes have efficient short proofs of primality.\n",
    "\n",
    "More precisely, for any prime $p$, there is a certificate of primality whose length is polynomial in the number of digits of $p$, and that can be verified in polynomial time.\n",
    "\n",
    "Note that we are not saying that it is easy to find such certificates. We are just saying that they exist.\n",
    "\n",
    "## PRIMES is in coNP\n",
    "\n",
    "A related problem is to show that a number is __not__ prime. This is a much easier problem: to show that $n$ is composite it is enough to give 2 integers $a$ and $b$, greater than 1, such that \n",
    "\n",
    "$$n = ab$$\n",
    "\n",
    "Here the certificate of compositeness is the pair $(a, b)$ and it can be verified by computing $ab$ and checking that it gives $n$, indeed. For example:"
   ]
  },
  {
   "cell_type": "code",
   "execution_count": 1,
   "metadata": {},
   "outputs": [
    {
     "name": "stdout",
     "output_type": "stream",
     "text": [
      "( 6864797660130609714981900799081393217269435300143305409394463459185543183397656052122559640661454554977296311391480858037121987999716643812574028291115057151 , 531137992816767098689588206552468627329593117727031923199444138200403559860852242739162502265229285668889329486246501015346579337652707239409519978766587351943831270835393219031728127 )\n",
      "\n",
      "is a certificate of compositeness for\n",
      "\n",
      "3646154850295011369707131011438711095400799139943170490872585628683549034362552065955809589514611470241298944167703929337528884908857116141935206466329731087514964112054543019336536216107629523597606330154669196064144182472739556974502462402438903115845725630946428943768540714098264727068026730424033578827886916761701429264950573899186177\n"
     ]
    }
   ],
   "source": [
    "# These Mersenne numbers are known to be prime.\n",
    "mersenne_521 = 2**521 - 1\n",
    "mersenne_607 = 2**607 - 1\n",
    "\n",
    "n = mersenne_521 * mersenne_607\n",
    "a = mersenne_521\n",
    "b = mersenne_607\n",
    "\n",
    "print('(', a, ',', b, ')')\n",
    "print('\\nis a certificate of compositeness for\\n')\n",
    "print(n)"
   ]
  },
  {
   "cell_type": "markdown",
   "metadata": {},
   "source": [
    "The goal of this notebook is to show that there are also short proofs (though not as short) for the primality of primes such as the 2 Mersenne numbers above.\n",
    "\n",
    "## Traditional primality algorithm\n",
    "The traditional way of checking that a number $n$ is prime is by making sure it cannot be evenly divided by smaller numbers. Actually, checking up to $\\sqrt n$ is enough."
   ]
  },
  {
   "cell_type": "code",
   "execution_count": 2,
   "metadata": {},
   "outputs": [
    {
     "name": "stdout",
     "output_type": "stream",
     "text": [
      "List of prime numbers:\n",
      "\n",
      "3 5 7 11 13 17 19 23 29 31 37 41 43 47 53 59 61 67 71 73 79 83 89 97 101 103 107 109 113 127 131 137 139 149 151 157 163 167 173 179 181 191 193 197 199 211 223 227 229 233 239 241 251 257 263 269 271 277 281 283 293 307 311 313 317 331 337 347 349 353 359 367 373 379 383 389 397 401 409 419 421 431 433 439 443 449 457 461 463 467 479 487 491 499 503 509 521 523 541 547 557 563 569 571 577 587 593 599 601 607 613 617 619 631 641 643 647 653 659 661 673 677 683 691 701 709 719 727 733 739 743 751 757 761 769 773 787 797 809 811 821 823 827 829 839 853 857 859 863 877 881 883 887 907 911 919 929 937 941 947 953 967 971 977 983 991 997 ...\n"
     ]
    }
   ],
   "source": [
    "# Returns True if n is prime.\n",
    "def is_prime(n):\n",
    "    if n <= 2: return False\n",
    "    if n == 2: return True\n",
    "    if n % 2 == 0: return False\n",
    "    i = 3\n",
    "    while (i*i <= n):\n",
    "        if n % i == 0:\n",
    "            return False\n",
    "        i += 2\n",
    "    return True\n",
    "\n",
    "print('List of prime numbers:\\n')\n",
    "for n in range(1, 1000):\n",
    "    if is_prime(n):\n",
    "        print(n, end=' ')\n",
    "print('...')"
   ]
  },
  {
   "cell_type": "markdown",
   "metadata": {},
   "source": [
    "This works well for relatively small numbers but doesn't scale up, say for 100-digit numbers. Note that the time complexity is $\\Theta(\\sqrt n)$, that is __exponential on the number of digits__ of $n$.\n",
    "\n",
    "## Fermat's little theorem\n",
    "\n",
    "__Fermat's little theorem__\n",
    "\n",
    "If $p$ is prime and $0 < a < p$ then\n",
    "\n",
    "$$a^{p-1} = 1 \\mod p$$\n",
    "\n",
    "__Proof__\n",
    "\n",
    "For any $a$\n",
    "\n",
    "$$(a + 1)^{p} = {p\\choose 0}a^p + {p\\choose 1}a^{p-1} + {p\\choose 2}a^{p-2} + \\cdots + {p\\choose p}a^0$$\n",
    "\n",
    "Since $p$ is prime, most of the coefficients are divisible by $p$. Indeed for $1 \\leq q \\leq p-1$, ${p\\choose q} = {{p!} \\over {q!(p-q)!}}$ has $p$ in the numerator, but not in the denominator. Therefore we have\n",
    "\n",
    "$$(a + 1)^{p} = a^p + 1 \\mod p$$\n",
    "\n",
    "For $a = 1$, we get $$2^p = 2 \\mod p$$\n",
    "and using induction on $a$, we get more generally $$a^p = a \\mod p$$\n",
    "\n",
    "If $(a, p) = 1$, $a$ has an inverse (mod p), as can be seen using the generalized Euclid's algorithm, and therefore, for $0 < a < p$\n",
    "\n",
    "$$a^{p-1} = 1 \\mod p$$\n",
    "\n",
    "Let's check the theorem for a few values:"
   ]
  },
  {
   "cell_type": "code",
   "execution_count": 3,
   "metadata": {},
   "outputs": [
    {
     "name": "stdout",
     "output_type": "stream",
     "text": [
      "2 ** (2 - 1) = 1 mod 3\n",
      "2 ** (96 - 1) = 1 mod 97\n",
      "23 ** (58 - 1) = 1 mod 59\n",
      "2 ** (6864797660130609714981900799081393217269435300143305409394463459185543183397656052122559640661454554977296311391480858037121987999716643812574028291115057150 - 1) = 1 mod 6864797660130609714981900799081393217269435300143305409394463459185543183397656052122559640661454554977296311391480858037121987999716643812574028291115057151\n",
      "2 ** (531137992816767098689588206552468627329593117727031923199444138200403559860852242739162502265229285668889329486246501015346579337652707239409519978766587351943831270835393219031728126 - 1) = 1 mod 531137992816767098689588206552468627329593117727031923199444138200403559860852242739162502265229285668889329486246501015346579337652707239409519978766587351943831270835393219031728127\n"
     ]
    }
   ],
   "source": [
    "# Computes a**n mod m.\n",
    "def pow_mod(a, n, m):\n",
    "    if a >= m:\n",
    "        a %= m\n",
    "    if n == 0:\n",
    "        return 1\n",
    "    result = pow_mod(a, n // 2, m) ** 2\n",
    "    if n % 2 == 1: \n",
    "        result = a * result\n",
    "    result = result % m\n",
    "    return result\n",
    "\n",
    "def fermat_test(n, a):\n",
    "    return pow_mod(a, n-1, n) == 1\n",
    "\n",
    "def check_fermat(a, n):\n",
    "    assert(fermat_test(n, a))\n",
    "    print(a, ' ** (', n-1, ' - 1) = 1 mod ', n, sep='')\n",
    "    \n",
    "check_fermat(2, 3)\n",
    "check_fermat(2, 97)\n",
    "check_fermat(23, 59)\n",
    "check_fermat(2, mersenne_521)\n",
    "check_fermat(2, mersenne_607)"
   ]
  },
  {
   "cell_type": "markdown",
   "metadata": {},
   "source": [
    "On the other hand:"
   ]
  },
  {
   "cell_type": "code",
   "execution_count": 4,
   "metadata": {
    "scrolled": false
   },
   "outputs": [
    {
     "name": "stdout",
     "output_type": "stream",
     "text": [
      "n = 3646154850295011369707131011438711095400799139943170490872585628683549034362552065955809589514611470241298944167703929337528884908857116141935206466329731087514964112054543019336536216107629523597606330154669196064144182472739556974502462402438903115845725630946428943768540714098264727068026730424033578827886916761701429264950573899186177\n",
      "\n",
      "is composite. Indeed: 2^(n-1) mod n =\n",
      "\n",
      "117617898447960240594738066243890558744589682390176529192112418734563680630878699069868895603571073655147079382052381245794746597893046791796022644053827181234957536466206089534971894653069934981964122654984031075848787023021459140241103234472410417849613699642368118324583536948112226181224721873646572082806254147448685639776817059429343\n"
     ]
    }
   ],
   "source": [
    "composite = mersenne_521 * mersenne_607\n",
    "composite_power = pow_mod(2, composite-1, composite)\n",
    "assert(composite_power != 1)\n",
    "print('n =', composite)\n",
    "print('\\nis composite. Indeed: 2^(n-1) mod n =\\n')\n",
    "print(composite_power)"
   ]
  },
  {
   "cell_type": "markdown",
   "metadata": {},
   "source": [
    "Note that Fermat's test is very fast even for very large numbers. For some composite numbers, like the one above, it gives a very fast proof of compositeness that doesn't require knowledge of the factors.\n",
    "\n",
    "## Pseudoprimes\n",
    "\n",
    "Fermat's little theorem is remarkable not only in itself, but also because its converse is almost true. But not quite as we are going to see.\n",
    "\n",
    "__Poulet numbers__\n",
    "\n",
    "Does $$2^{n-1} = 1 \\mod n$$ imply that $n$ is prime?\n",
    "\n",
    "Unfortunately, this is not true in general. Such numbers, composite but verifying the identity above, are called Poulet numbers."
   ]
  },
  {
   "cell_type": "code",
   "execution_count": 5,
   "metadata": {},
   "outputs": [
    {
     "name": "stdout",
     "output_type": "stream",
     "text": [
      "Poulet numbers\n",
      "\n",
      "Interval[ 2 , 1000 ]\n",
      "   167 primes\n",
      "   3 poulet numbers : [341, 561, 645]\n",
      "\n",
      "Interval[ 1000000 , 1010000 ]\n",
      "   753 primes\n",
      "   1 poulet numbers : [1004653]\n"
     ]
    }
   ],
   "source": [
    "def is_poulet(n):\n",
    "    return fermat_test(n, 2) and not is_prime(n)\n",
    "\n",
    "# Returns the list of pseudoprimes in an interval, as well\n",
    "# as the number of primes in that interval.\n",
    "def pseudoprimes(start, end, is_pseudoprime):\n",
    "    num_primes = 0\n",
    "    pseudoprimes = []\n",
    "    for n in range(start, end + 1):\n",
    "        if is_prime(n):\n",
    "            num_primes += 1\n",
    "        elif is_pseudoprime(n):\n",
    "            pseudoprimes.append(n)\n",
    "    return pseudoprimes, num_primes\n",
    "\n",
    "def study_pseudoprimes(start, end, is_pseudoprime, name):\n",
    "    pseudoprimes_list, num_primes = pseudoprimes(start, end, is_pseudoprime)\n",
    "    print('Interval[', start, ',', end, ']')\n",
    "    print('  ', num_primes, 'primes')\n",
    "    print('  ',  len(pseudoprimes_list), name, ':', pseudoprimes_list)\n",
    "\n",
    "print('Poulet numbers\\n')            \n",
    "study_pseudoprimes(2, 1000, is_poulet, 'poulet numbers')\n",
    "print()\n",
    "study_pseudoprimes(1000000, 1010000, is_poulet, 'poulet numbers')"
   ]
  },
  {
   "cell_type": "markdown",
   "metadata": {},
   "source": [
    "While it looks like Poulet numbers are rare and it is a good heuristic (and it seems to get better for larger numbers) it is not a __proof__ of primality.\n",
    "\n",
    "__2-3 Pseudoprimes__\n",
    "\n",
    "Our next attempt is to extend the test, and use 2 and 3 (and not just 2). \n",
    "\n",
    "Does $$2^{n-1} = 1 \\mod n$$ and $$3^{n-1} = 1 \\mod n$$ imply that $n$ is prime?\n",
    "\n",
    "Things get better but, unfortunately, the answer is no again."
   ]
  },
  {
   "cell_type": "code",
   "execution_count": 6,
   "metadata": {},
   "outputs": [
    {
     "name": "stdout",
     "output_type": "stream",
     "text": [
      "2-3 pseudoprimes\n",
      "\n",
      "Interval[ 2 , 1000 ]\n",
      "   167 primes\n",
      "   0 2-3 pseudoprimes : []\n",
      "Interval[ 1000000 , 1010000 ]\n",
      "   753 primes\n",
      "   0 2-3 pseudoprimes : []\n",
      "Interval[ 1000000 , 1100000 ]\n",
      "   7216 primes\n",
      "   4 2-3 pseudoprimes : [1024651, 1033669, 1050985, 1082809]\n"
     ]
    }
   ],
   "source": [
    "def is_2_3_pseudoprime(n):\n",
    "    return fermat_test(n, 2) and fermat_test(n, 3) and not is_prime(n)\n",
    "\n",
    "print('2-3 pseudoprimes\\n')\n",
    "\n",
    "study_pseudoprimes(2, 1000, is_2_3_pseudoprime, '2-3 pseudoprimes')\n",
    "study_pseudoprimes(1000000, 1010000, is_2_3_pseudoprime, '2-3 pseudoprimes')\n",
    "study_pseudoprimes(1000000, 1100000, is_2_3_pseudoprime, '2-3 pseudoprimes')"
   ]
  },
  {
   "cell_type": "markdown",
   "metadata": {},
   "source": [
    "We could try to refine this approach, as it seems to produce better and better heuristics. But, again, it doesn't seem that we will get a criteria of primality.\n",
    "\n",
    "## A criteria of primality\n",
    "\n",
    "__Theorem__\n",
    "\n",
    "$n$ is prime if and only if, there is $g$ such that, modulo $n$,\n",
    "\n",
    "\\begin{align*}\n",
    "g^1 \\neq 1, g^2 \\neq 1, g^3 \\neq 1, \\ldots, g^{n-2} \\neq 1 \\\\\n",
    "g^{n-1} = 1\n",
    "\\end{align*}\n",
    "\n",
    "Such a $g$ is called a __witness__ of primality of $n$.\n",
    "\n",
    "__Proof__\n",
    "\n",
    "We will prove this at the end of the notebook, but let's verify here the theorem on some examples.\n",
    "\n",
    "__Examples__"
   ]
  },
  {
   "cell_type": "code",
   "execution_count": 7,
   "metadata": {},
   "outputs": [],
   "source": [
    "def get_power_sequence(n, g):\n",
    "    sequence = []\n",
    "    term = g\n",
    "    for i in range(1, n):\n",
    "        sequence.append(term)\n",
    "        term *= g\n",
    "        term = term % n\n",
    "    return sequence\n",
    "    \n",
    "def print_power_sequence(n, g):\n",
    "    print(g, ' ** i (mod ', n, ') : ', end='', sep='')\n",
    "    sequence = get_power_sequence(n, g)\n",
    "    for term in sequence:\n",
    "        print(term, end=' ')\n",
    "    print('...')\n",
    "\n",
    "def get_primality_witnesses(n):\n",
    "    witnesses = []\n",
    "    for a in range(1, n):\n",
    "        sequence = get_power_sequence(n, a)\n",
    "        has_witness = True\n",
    "        for i in range(1, n):\n",
    "            if not i in sequence:\n",
    "                has_witness = False\n",
    "                break\n",
    "        if has_witness:\n",
    "            witnesses.append(a)\n",
    "    return witnesses\n",
    "\n",
    "def print_primality_witnesses(n):\n",
    "    print('Witnesses for', n, ':', get_primality_witnesses(n))"
   ]
  },
  {
   "cell_type": "markdown",
   "metadata": {},
   "source": [
    "__11 is prime__"
   ]
  },
  {
   "cell_type": "code",
   "execution_count": 8,
   "metadata": {},
   "outputs": [
    {
     "name": "stdout",
     "output_type": "stream",
     "text": [
      "1 ** i (mod 11) : 1 1 1 1 1 1 1 1 1 1 ...\n",
      "2 ** i (mod 11) : 2 4 8 5 10 9 7 3 6 1 ...\n",
      "3 ** i (mod 11) : 3 9 5 4 1 3 9 5 4 1 ...\n",
      "4 ** i (mod 11) : 4 5 9 3 1 4 5 9 3 1 ...\n",
      "5 ** i (mod 11) : 5 3 4 9 1 5 3 4 9 1 ...\n",
      "6 ** i (mod 11) : 6 3 7 9 10 5 8 4 2 1 ...\n",
      "7 ** i (mod 11) : 7 5 2 3 10 4 6 9 8 1 ...\n",
      "8 ** i (mod 11) : 8 9 6 4 10 3 2 5 7 1 ...\n",
      "9 ** i (mod 11) : 9 4 3 5 1 9 4 3 5 1 ...\n",
      "10 ** i (mod 11) : 10 1 10 1 10 1 10 1 10 1 ...\n",
      "\n",
      "Witnesses for 11 : [2, 6, 7, 8]\n"
     ]
    }
   ],
   "source": [
    "n = 11\n",
    "for a in range(1, n):\n",
    "    print_power_sequence(n, a)\n",
    "\n",
    "print()\n",
    "print_primality_witnesses(n)"
   ]
  },
  {
   "cell_type": "markdown",
   "metadata": {},
   "source": [
    "__15 is not prime__"
   ]
  },
  {
   "cell_type": "code",
   "execution_count": 9,
   "metadata": {},
   "outputs": [
    {
     "name": "stdout",
     "output_type": "stream",
     "text": [
      "1 ** i (mod 15) : 1 1 1 1 1 1 1 1 1 1 1 1 1 1 ...\n",
      "2 ** i (mod 15) : 2 4 8 1 2 4 8 1 2 4 8 1 2 4 ...\n",
      "3 ** i (mod 15) : 3 9 12 6 3 9 12 6 3 9 12 6 3 9 ...\n",
      "4 ** i (mod 15) : 4 1 4 1 4 1 4 1 4 1 4 1 4 1 ...\n",
      "5 ** i (mod 15) : 5 10 5 10 5 10 5 10 5 10 5 10 5 10 ...\n",
      "6 ** i (mod 15) : 6 6 6 6 6 6 6 6 6 6 6 6 6 6 ...\n",
      "7 ** i (mod 15) : 7 4 13 1 7 4 13 1 7 4 13 1 7 4 ...\n",
      "8 ** i (mod 15) : 8 4 2 1 8 4 2 1 8 4 2 1 8 4 ...\n",
      "9 ** i (mod 15) : 9 6 9 6 9 6 9 6 9 6 9 6 9 6 ...\n",
      "10 ** i (mod 15) : 10 10 10 10 10 10 10 10 10 10 10 10 10 10 ...\n",
      "11 ** i (mod 15) : 11 1 11 1 11 1 11 1 11 1 11 1 11 1 ...\n",
      "12 ** i (mod 15) : 12 9 3 6 12 9 3 6 12 9 3 6 12 9 ...\n",
      "13 ** i (mod 15) : 13 4 7 1 13 4 7 1 13 4 7 1 13 4 ...\n",
      "14 ** i (mod 15) : 14 1 14 1 14 1 14 1 14 1 14 1 14 1 ...\n",
      "\n",
      "Witnesses for 15 : []\n"
     ]
    }
   ],
   "source": [
    "n = 15\n",
    "for a in range(1, n):\n",
    "    print_power_sequence(n, a)\n",
    "\n",
    "print()\n",
    "print_primality_witnesses(n)"
   ]
  },
  {
   "cell_type": "markdown",
   "metadata": {},
   "source": [
    "__337 is prime__"
   ]
  },
  {
   "cell_type": "code",
   "execution_count": 10,
   "metadata": {},
   "outputs": [
    {
     "name": "stdout",
     "output_type": "stream",
     "text": [
      "Witnesses for 337 : [10, 15, 19, 20, 22, 23, 29, 31, 33, 34, 44, 45, 46, 51, 53, 60, 61, 67, 68, 70, 71, 73, 80, 83, 87, 89, 90, 93, 99, 101, 106, 109, 114, 116, 118, 120, 124, 130, 132, 134, 139, 143, 151, 152, 154, 160, 161, 166, 171, 176, 177, 183, 185, 186, 194, 198, 203, 205, 207, 213, 217, 219, 221, 223, 228, 231, 236, 238, 244, 247, 248, 250, 254, 257, 264, 266, 267, 269, 270, 276, 277, 284, 286, 291, 292, 293, 303, 304, 306, 308, 314, 315, 317, 318, 322, 327]\n"
     ]
    }
   ],
   "source": [
    "print_primality_witnesses(337)"
   ]
  },
  {
   "cell_type": "markdown",
   "metadata": {},
   "source": [
    "__341 is not prime__\n",
    "\n",
    "Remember that 341 is a Poulet number and therefore a pseudoprime. It is therefore comforting that it does not have any witness."
   ]
  },
  {
   "cell_type": "code",
   "execution_count": 11,
   "metadata": {},
   "outputs": [
    {
     "name": "stdout",
     "output_type": "stream",
     "text": [
      "Witnesses for 341 : []\n"
     ]
    }
   ],
   "source": [
    "print_primality_witnesses(341)"
   ]
  },
  {
   "cell_type": "markdown",
   "metadata": {},
   "source": [
    "## Lucas Primality Test\n",
    "\n",
    "This criteria of primality, while interesting, doesn't help in our goal of proving that PRIMES is in NP. Indeed, to apply the criteria we would need to perform computations on all the numbers up to the number we want to prove prime. But there are exponentially many of them.\n",
    "\n",
    "Lucas Primality Test is a primality criteria that shows that in fact, we will only need to test the values of $g^k$ for a few $k$'s, and more precisely for a polynomial number of them.\n",
    "\n",
    "__Theorem__ $n$ is prime if, and only if, there is $g$ such that:\n",
    "1. $g^{n-1} = 1 \\mod n$\n",
    "2. for every prime factor $q$ of $n-1$, $g^{(n-1)/q} \\neq 1 \\mod n$\n",
    "\n",
    "__Proof__\n",
    "\n",
    "Note that this theorem is a version of the characterization of primes, with a weaker condition in 2. \n",
    "\n",
    "We assume that all computations are done mod $n$.\n",
    "\n",
    "We need to prove that if $g^{n-1} = 1$ and $g^i = 1$, for some $0< i < n-1$, then there is a prime factor $q$ of $n-1$ such that $g^{(n-1)/q} = 1$.\n",
    "\n",
    "Since $g^{n-1} = 1$, the sequence $g^k$ has period $r$, either $n-1$, or a proper factor of $n-1$. Because, $g^i = 1$ for some $0<i<n-1$, the period needs to be a proper factor $r$ of $n-1$.\n",
    "\n",
    "Therefore, $g^{r} = 1$ for $r = {{n-1}\\over{mq}}$, with $m >= 1$ and $q$ prime. \n",
    "\n",
    "Since $g^{r} = 1$, then $g^{rm} = 1$ therefore $g^{(n-1)/q} = 1$.\n",
    "\n",
    "\n",
    "## Pratt's Theorem\n",
    "\n",
    "__Theorem__ PRIMES is in NP\n",
    "\n",
    "__Proof__ \n",
    "\n",
    "__Certificate__\n",
    "To produce a certificate of primality for $n$, write down a factorization of $n - 1$ into prime numbers, as well as a witness of primality for $n$. Recursively add, to the certificate, certificates of primality for the prime numbers in the factorization. Stop the recursion at the numbers 2 and 3, which are obviously prime.\n",
    "\n",
    "__Length__\n",
    "Consider the certificate tree with $n$ as the root, the children of a node $m$ being the prime factors of $m-1$, and having as leaves 2's and 3's. Note that each non leaf node has > 1 children. This implies that the tree, which has $O(\\log n)$ leaves, has $O(\\log n)$ nodes. Each node stands for a number $\\leq n$ and therefore can be represented with $O(\\log n)$ bits. In total we only need $O(\\log^2 n)$ bits to represent this tree. For the $O(\\log n)$ witnesses, one per node, $O(\\log^2 n)$ bits are again sufficient. Therefore the certificate's length is polynomial in $\\log n$.\n",
    "\n",
    "__Running Time__\n",
    "For each node, we need to check the factorization of a $O(\\log n)$-bit number. This can be done in $O(\\log^2 n)$ time with the standard multiplication algorithm. Since there are $O(\\log n)$ nodes, we can check all the factorizations in $O(\\log^3 n)$ time. As for witnesses, we need to check $O(\\log n)$ of them, and each check requires a modular exponentiation which can be done $O(\\log^3 n)$ time. Therefore the total time for verifying witnesses is $O(\\log^4 n)$. In conclusion, the certificate can be verified in polynomial time.\n",
    "\n",
    "## Primality Verifier\n",
    "\n",
    "We present now a function that allows to verify primality certificates."
   ]
  },
  {
   "cell_type": "code",
   "execution_count": 12,
   "metadata": {},
   "outputs": [],
   "source": [
    "# Verifies that (factors, witnesses) is a valid primality certificate for n.\n",
    "# The indentation helps readability, showing the recursion level in the output.\n",
    "# The verified_set is the set of primes that have been already verified, so we \n",
    "# don't verify them again.\n",
    "def verify_primality_certificate(n, factors, witnesses, indentation='', verified_set=[]):\n",
    "    if n == 2 or n == 3:\n",
    "        print(indentation, n, \"is a known prime\")\n",
    "        return True\n",
    "    if n in verified_set:\n",
    "        print(indentation, n, \"already verified\")\n",
    "        return True\n",
    "    print(indentation, \"verifying\", n, \"...\")\n",
    "    factors_for_n = factors[n]\n",
    "    # Verify product.\n",
    "    product = 1\n",
    "    for f in factors_for_n:\n",
    "        product *= f\n",
    "    if product != n - 1:\n",
    "        print(indentation, product, '!=', n - 1)\n",
    "        return False\n",
    "    print(indentation, \"product checked for\", n, '- 1')\n",
    "    # Verify criteria.\n",
    "    witness = witnesses[n]\n",
    "    if pow_mod(witness, n-1, n) != 1:\n",
    "        return False\n",
    "    for f in factors_for_n:\n",
    "        if pow_mod(witness, (n-1)//f, n) == 1:\n",
    "            print('Oops', witness, n, (n-1)//f, n)\n",
    "            return False\n",
    "    print(indentation, \"witness checked for\", n)\n",
    "    # Recurse.\n",
    "    print(indentation, 'recursing on factors', factors_for_n, 'of', n, '- 1')\n",
    "    for f in factors_for_n:\n",
    "        if not verify_primality_certificate(f, factors, witnesses, indentation + '  ', verified_set):\n",
    "            return False\n",
    "    print(indentation, '==>', n, \"is prime\")\n",
    "    verified_set.append(n)\n",
    "    return True"
   ]
  },
  {
   "cell_type": "markdown",
   "metadata": {},
   "source": [
    "__Verifying 31__"
   ]
  },
  {
   "cell_type": "code",
   "execution_count": 13,
   "metadata": {},
   "outputs": [
    {
     "name": "stdout",
     "output_type": "stream",
     "text": [
      " verifying 31 ...\n",
      " product checked for 31 - 1\n",
      " witness checked for 31\n",
      " recursing on factors [2, 3, 5] of 31 - 1\n",
      "   2 is a known prime\n",
      "   3 is a known prime\n",
      "   verifying 5 ...\n",
      "   product checked for 5 - 1\n",
      "   witness checked for 5\n",
      "   recursing on factors [2, 2] of 5 - 1\n",
      "     2 is a known prime\n",
      "     2 is a known prime\n",
      "   ==> 5 is prime\n",
      " ==> 31 is prime\n"
     ]
    },
    {
     "data": {
      "text/plain": [
       "True"
      ]
     },
     "execution_count": 13,
     "metadata": {},
     "output_type": "execute_result"
    }
   ],
   "source": [
    "n = 31\n",
    "\n",
    "# (factors, witnesses) is the certificate of primality for 31.\n",
    "factors = {n:[2,3,5], 3:[2], 5:[2,2]}\n",
    "witnesses = {n:3, 3:2, 5:2}\n",
    "\n",
    "verify_primality_certificate(n, factors, witnesses, '', [])"
   ]
  },
  {
   "cell_type": "markdown",
   "metadata": {},
   "source": [
    "__Verifying $2^{89} - 1$__"
   ]
  },
  {
   "cell_type": "code",
   "execution_count": 14,
   "metadata": {},
   "outputs": [
    {
     "name": "stdout",
     "output_type": "stream",
     "text": [
      " verifying 618970019642690137449562111 ...\n",
      " product checked for 618970019642690137449562111 - 1\n",
      " witness checked for 618970019642690137449562111\n",
      " recursing on factors [2, 3, 5, 17, 23, 89, 353, 397, 683, 2113, 2931542417] of 618970019642690137449562111 - 1\n",
      "   2 is a known prime\n",
      "   3 is a known prime\n",
      "   verifying 5 ...\n",
      "   product checked for 5 - 1\n",
      "   witness checked for 5\n",
      "   recursing on factors [2, 2] of 5 - 1\n",
      "     2 is a known prime\n",
      "     2 is a known prime\n",
      "   ==> 5 is prime\n",
      "   verifying 17 ...\n",
      "   product checked for 17 - 1\n",
      "   witness checked for 17\n",
      "   recursing on factors [2, 2, 2, 2] of 17 - 1\n",
      "     2 is a known prime\n",
      "     2 is a known prime\n",
      "     2 is a known prime\n",
      "     2 is a known prime\n",
      "   ==> 17 is prime\n",
      "   verifying 23 ...\n",
      "   product checked for 23 - 1\n",
      "   witness checked for 23\n",
      "   recursing on factors [2, 11] of 23 - 1\n",
      "     2 is a known prime\n",
      "     verifying 11 ...\n",
      "     product checked for 11 - 1\n",
      "     witness checked for 11\n",
      "     recursing on factors [2, 5] of 11 - 1\n",
      "       2 is a known prime\n",
      "       5 already verified\n",
      "     ==> 11 is prime\n",
      "   ==> 23 is prime\n",
      "   verifying 89 ...\n",
      "   product checked for 89 - 1\n",
      "   witness checked for 89\n",
      "   recursing on factors [2, 2, 2, 11] of 89 - 1\n",
      "     2 is a known prime\n",
      "     2 is a known prime\n",
      "     2 is a known prime\n",
      "     11 already verified\n",
      "   ==> 89 is prime\n",
      "   verifying 353 ...\n",
      "   product checked for 353 - 1\n",
      "   witness checked for 353\n",
      "   recursing on factors [2, 2, 2, 2, 2, 11] of 353 - 1\n",
      "     2 is a known prime\n",
      "     2 is a known prime\n",
      "     2 is a known prime\n",
      "     2 is a known prime\n",
      "     2 is a known prime\n",
      "     11 already verified\n",
      "   ==> 353 is prime\n",
      "   verifying 397 ...\n",
      "   product checked for 397 - 1\n",
      "   witness checked for 397\n",
      "   recursing on factors [2, 2, 3, 3, 11] of 397 - 1\n",
      "     2 is a known prime\n",
      "     2 is a known prime\n",
      "     3 is a known prime\n",
      "     3 is a known prime\n",
      "     11 already verified\n",
      "   ==> 397 is prime\n",
      "   verifying 683 ...\n",
      "   product checked for 683 - 1\n",
      "   witness checked for 683\n",
      "   recursing on factors [2, 11, 31] of 683 - 1\n",
      "     2 is a known prime\n",
      "     11 already verified\n",
      "     verifying 31 ...\n",
      "     product checked for 31 - 1\n",
      "     witness checked for 31\n",
      "     recursing on factors [2, 3, 5] of 31 - 1\n",
      "       2 is a known prime\n",
      "       3 is a known prime\n",
      "       5 already verified\n",
      "     ==> 31 is prime\n",
      "   ==> 683 is prime\n",
      "   verifying 2113 ...\n",
      "   product checked for 2113 - 1\n",
      "   witness checked for 2113\n",
      "   recursing on factors [2, 2, 2, 2, 2, 2, 3, 11] of 2113 - 1\n",
      "     2 is a known prime\n",
      "     2 is a known prime\n",
      "     2 is a known prime\n",
      "     2 is a known prime\n",
      "     2 is a known prime\n",
      "     2 is a known prime\n",
      "     3 is a known prime\n",
      "     11 already verified\n",
      "   ==> 2113 is prime\n",
      "   verifying 2931542417 ...\n",
      "   product checked for 2931542417 - 1\n",
      "   witness checked for 2931542417\n",
      "   recursing on factors [2, 2, 2, 2, 11, 1913, 8707] of 2931542417 - 1\n",
      "     2 is a known prime\n",
      "     2 is a known prime\n",
      "     2 is a known prime\n",
      "     2 is a known prime\n",
      "     11 already verified\n",
      "     verifying 1913 ...\n",
      "     product checked for 1913 - 1\n",
      "     witness checked for 1913\n",
      "     recursing on factors [2, 2, 2, 239] of 1913 - 1\n",
      "       2 is a known prime\n",
      "       2 is a known prime\n",
      "       2 is a known prime\n",
      "       verifying 239 ...\n",
      "       product checked for 239 - 1\n",
      "       witness checked for 239\n",
      "       recursing on factors [2, 7, 17] of 239 - 1\n",
      "         2 is a known prime\n",
      "         verifying 7 ...\n",
      "         product checked for 7 - 1\n",
      "         witness checked for 7\n",
      "         recursing on factors [2, 3] of 7 - 1\n",
      "           2 is a known prime\n",
      "           3 is a known prime\n",
      "         ==> 7 is prime\n",
      "         17 already verified\n",
      "       ==> 239 is prime\n",
      "     ==> 1913 is prime\n",
      "     verifying 8707 ...\n",
      "     product checked for 8707 - 1\n",
      "     witness checked for 8707\n",
      "     recursing on factors [2, 3, 1451] of 8707 - 1\n",
      "       2 is a known prime\n",
      "       3 is a known prime\n",
      "       verifying 1451 ...\n",
      "       product checked for 1451 - 1\n",
      "       witness checked for 1451\n",
      "       recursing on factors [2, 5, 5, 29] of 1451 - 1\n",
      "         2 is a known prime\n",
      "         5 already verified\n",
      "         5 already verified\n",
      "         verifying 29 ...\n",
      "         product checked for 29 - 1\n",
      "         witness checked for 29\n",
      "         recursing on factors [2, 2, 7] of 29 - 1\n",
      "           2 is a known prime\n",
      "           2 is a known prime\n",
      "           7 already verified\n",
      "         ==> 29 is prime\n",
      "       ==> 1451 is prime\n",
      "     ==> 8707 is prime\n",
      "   ==> 2931542417 is prime\n",
      " ==> 618970019642690137449562111 is prime\n"
     ]
    },
    {
     "data": {
      "text/plain": [
       "True"
      ]
     },
     "execution_count": 14,
     "metadata": {},
     "output_type": "execute_result"
    }
   ],
   "source": [
    "mersenne_89 = 2**89 - 1\n",
    "\n",
    "# (factors, witnesses) is the certificate of primality for mersenne_89.\n",
    "\n",
    "# Maps n to the factors of n-1.\n",
    "# The n's are the primes needed in the verification.\n",
    "factors = {mersenne_89:[2,3,5,17,23,89,353,397,683,2113,2931542417],\n",
    "           3: [2],\n",
    "           5: [2,2],\n",
    "           7: [2,3],\n",
    "           11: [2,5],\n",
    "           17: [2,2,2,2],\n",
    "           23: [2,11],\n",
    "           29: [2,2,7],\n",
    "           31: [2,3,5],\n",
    "           89: [2,2,2,11],\n",
    "           239: [2,7,17],\n",
    "           353: [2,2,2,2,2,11],\n",
    "           397: [2,2,3,3,11],\n",
    "           683: [2,11,31],\n",
    "           1451: [2,5,5,29],\n",
    "           1913: [2,2,2,239],\n",
    "           2113: [2,2,2,2,2,2,3,11],\n",
    "           8707: [2,3,1451],\n",
    "           2931542417: [2,2,2,2,11,1913,8707]}\n",
    "\n",
    "# Maps n to its witness for Fermat's test.\n",
    "# The n's are the primes needed in the verification.\n",
    "witnesses = {mersenne_89:3, \n",
    "             3: 2, \n",
    "             5: 2, \n",
    "             7: 3,\n",
    "             11: 2, \n",
    "             17: 3, \n",
    "             23: 5, \n",
    "             29: 2,\n",
    "             31: 3, \n",
    "             89: 3, \n",
    "             239: 7,\n",
    "             353: 3, \n",
    "             397: 5, \n",
    "             683: 5,\n",
    "             1451: 2,\n",
    "             1913: 3,\n",
    "             2113: 5, \n",
    "             8707: 5,\n",
    "             2931542417: 3}\n",
    "\n",
    "verify_primality_certificate(mersenne_89, factors, witnesses, '', [])"
   ]
  },
  {
   "cell_type": "markdown",
   "metadata": {},
   "source": [
    "## Proof of the criteria of primality\n",
    "\n",
    "__Note:__ this section assumes some knowledge of Group Theory and Number Theory.\n",
    "\n",
    "### Basic Notions\n",
    "\n",
    "__Euler's totient function__\n",
    "\n",
    "$\\phi(n)$ denotes the number of elements between 1 and $n$, that are relatively prime to $n$.\n",
    "\n",
    "__Group $Z^*_n$__\n",
    "\n",
    "$Z^*_n$ is the multiplicative group of integers modulo n. It has $\\phi(n)$ elements.\n",
    "\n",
    "__Lagrange's Theorem__\n",
    "\n",
    "If a group is finite, the order (that is the number of elements) of any of its subgroups divides the order of the group.\n",
    "\n",
    "__Euler's theorem__\n",
    "\n",
    "If $(a, n) = 1$, then $a^{\\phi(n)} = 1$. This can be easily derived from Lagrange's theorem and can be seen as a generalization of Fermat's little theorem.\n",
    "\n",
    "__Order of an element__\n",
    "\n",
    "The order of an element $g$ of a group is, by definition, the order of the subgroup generated by $g$, that is the smallest $k \\geq 1$ such that $g^k = 1$."
   ]
  },
  {
   "cell_type": "code",
   "execution_count": 15,
   "metadata": {},
   "outputs": [],
   "source": [
    "def gcd(a, b):\n",
    "    if b == 0:\n",
    "        return a\n",
    "    return gcd(b, a % b)\n",
    "\n",
    "def phi(n):\n",
    "    result = 0\n",
    "    for a in range(1, n+1):\n",
    "        if gcd(a, n) == 1:\n",
    "            result += 1\n",
    "    return result\n",
    "\n",
    "def order(g, n):\n",
    "    assert(gcd(g, n) == 1)\n",
    "    pow = 1\n",
    "    g_pow = g\n",
    "    while g_pow != 1:\n",
    "        g_pow = (g_pow * g) % n \n",
    "        pow += 1\n",
    "    return pow"
   ]
  },
  {
   "cell_type": "markdown",
   "metadata": {},
   "source": [
    "Let's check Euler's theorem on some value"
   ]
  },
  {
   "cell_type": "code",
   "execution_count": 16,
   "metadata": {},
   "outputs": [
    {
     "name": "stdout",
     "output_type": "stream",
     "text": [
      "Euler's theorem checked between 2 and 100\n",
      "Euler's theorem checked on 341\n"
     ]
    }
   ],
   "source": [
    "def check_euler(n):\n",
    "    for a in range(n):\n",
    "        if gcd(a, n) == 1:\n",
    "            assert(pow_mod(a, phi(n), n) == 1)\n",
    "\n",
    "for n in range(2, 101):\n",
    "    check_euler(n)\n",
    "print('Euler\\'s theorem checked between 2 and 100')\n",
    "    \n",
    "check_euler(341)\n",
    "print('Euler\\'s theorem checked on 341')"
   ]
  },
  {
   "cell_type": "markdown",
   "metadata": {},
   "source": [
    "### Supporting Theorems\n",
    "\n",
    "__Theorem - Sum of Totients__\n",
    "\n",
    "For any $n \\geq 1$, $$\\sum_{d|n}{\\phi(d)} = n$$\n",
    "\n",
    "Let's try this on $n = 12$."
   ]
  },
  {
   "cell_type": "code",
   "execution_count": 17,
   "metadata": {},
   "outputs": [
    {
     "name": "stdout",
     "output_type": "stream",
     "text": [
      "  phi(1) = 1\n",
      "  phi(2) = 1\n",
      "  phi(3) = 2\n",
      "  phi(4) = 2\n",
      "  phi(6) = 2\n",
      "  phi(12) = 4\n"
     ]
    }
   ],
   "source": [
    "n = 13\n",
    "for a in range(1, n):\n",
    "    if (n-1) % a == 0:\n",
    "        print('  phi(', a, ') = ', phi(a), sep='')"
   ]
  },
  {
   "cell_type": "markdown",
   "metadata": {},
   "source": [
    "So indeed $\\phi(1) + \\phi(2) + \\phi(3) + \\phi(4) + \\phi(6) + \\phi(12) = 12$. Let's prove this in general.\n",
    "\n",
    "__Proof__\n",
    "\n",
    "Consider the sequence ${{1}\\over{n}}, {{2}\\over{n}}, {{3}\\over{n}}, \\ldots, {{n-1}\\over{n}}, {{n}\\over{n}}$ and simplify the fractions. Associate each $1 \\leq i \\leq n$ to the $d$ such that ${i\\over n} = {k \\over d}$ with $(k, d) = 1$.\n",
    "\n",
    "__Theorem - Roots of a polynomial__\n",
    "\n",
    "For $p$ prime, polynomials of degree $d$ have at most $d$ distinct solutions in $Z^*_p$.\n",
    "\n",
    "__Proof__\n",
    "\n",
    "TODO\n",
    "\n",
    "### Proof of the criteria\n",
    "\n",
    "All the computations will be done mod $n$.\n",
    "\n",
    "If $n$ is composite, there are 2 cases:\n",
    "1. $(g, n) \\neq 1$: then $g^k \\neq 1$, for any $k$. In particular $g^{n-1} \\neq 1$ and therefore $g$ is not a witness.\n",
    "2. $(g, n) = 1$: then $g^{\\phi(n)} = 1$. Since $\\phi(n) < n - 1$, $g$ is not a witness.\n",
    "\n",
    "Let's assume that $n$ is prime, and let's call it $p$ from now on. \n",
    "\n",
    "We will show a stronger version of the criteria: the number of elements of order $d$ of $Z^*_p$, where $d$ divides $p-1$, is exactly $\\phi(d)$. This implies that there are $\\phi(p-1) > 0$ elements of order $p-1$, and therefore that there is at least 1 witness.\n",
    "\n",
    "Let's check this is true on an example."
   ]
  },
  {
   "cell_type": "code",
   "execution_count": 18,
   "metadata": {},
   "outputs": [
    {
     "name": "stdout",
     "output_type": "stream",
     "text": [
      "modulo 13\n",
      "  order(1) = 1\n",
      "  order(2) = 12\n",
      "  order(3) = 3\n",
      "  order(4) = 6\n",
      "  order(5) = 4\n",
      "  order(6) = 12\n",
      "  order(7) = 12\n",
      "  order(8) = 4\n",
      "  order(9) = 3\n",
      "  order(10) = 6\n",
      "  order(11) = 12\n",
      "  order(12) = 2\n",
      "\n",
      "totients:\n",
      "  phi(1) = 1\n",
      "  phi(2) = 1\n",
      "  phi(3) = 2\n",
      "  phi(4) = 2\n",
      "  phi(6) = 2\n",
      "  phi(12) = 4\n"
     ]
    }
   ],
   "source": [
    "p = 13\n",
    "print('modulo', p)\n",
    "for g in range(1, p):\n",
    "    print('  order(', g, ') = ', order(g, p), sep='')\n",
    "\n",
    "print('\\ntotients:')\n",
    "for a in range(1, p):\n",
    "    if (p-1) % a == 0:\n",
    "        print('  phi(', a, ') = ', phi(a), sep='')"
   ]
  },
  {
   "cell_type": "markdown",
   "metadata": {},
   "source": [
    "Note that the assertion above is true for $p = 13$. For example, there are 4 elements of order 12 (2, 6, 7, 11) and indeed $\\phi(12) = 4$.\n",
    "\n",
    "Continuing the proof, note that any element $g$ generates a subgroup of $Z^*_p$ and therefore, using Lagrange's theorem, the order of any $g$ divides $p-1$.\n",
    "\n",
    "Let $d$ be a divisor of $p-1$. According to the second supporting theorem, there are at most $d$ elements such as $g^d = 1$, that is there are at most $d$ elements of order $d$. Let $g$ be such an element, if it exists. Then $g^1, g^2, \\ldots, g^{d}$ are different and they are all the solutions of $g^d = 1$. But only $\\phi(d)$ of them have order $d$, since if $k$ is such that $(k, p-1)$\n",
    "\n",
    "We have proved that:\n",
    "* if $d$ does not divide $p-1$, $d$ cannot be the order of any $g$.\n",
    "* If $d$ divides $p-1$, then there are at most $\\phi(d)$ elements of order $d$.\n",
    "\n",
    "Because of the first supporting theorem, this means that there are exactly  $\\phi(d)$ elements of order $d$. \n",
    "\n",
    "QED"
   ]
  }
 ],
 "metadata": {
  "kernelspec": {
   "display_name": "Python 3",
   "language": "python",
   "name": "python3"
  },
  "language_info": {
   "codemirror_mode": {
    "name": "ipython",
    "version": 3
   },
   "file_extension": ".py",
   "mimetype": "text/x-python",
   "name": "python",
   "nbconvert_exporter": "python",
   "pygments_lexer": "ipython3",
   "version": "3.6.5"
  }
 },
 "nbformat": 4,
 "nbformat_minor": 2
}
