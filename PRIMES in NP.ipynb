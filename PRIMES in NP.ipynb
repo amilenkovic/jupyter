{
 "cells": [
  {
   "cell_type": "markdown",
   "metadata": {},
   "source": [
    "<div style=\"text-align: right\">Paul Novaes<br>July 2018</div> \n",
    "\n",
    "# PRIMES in NP\n",
    "\n",
    "This notebook shows that primes have efficient short proofs of primality.\n",
    "\n",
    "More precisely, for any prime $p$, there is a certificate of primality whose length is polynomial in the number of digits of $p$, and that can be verified in polynomial time.\n",
    "\n",
    "Note that we are not saying that it is easy to find such certificates. We are just saying that they exist.\n",
    "\n",
    "## PRIMES is in coNP\n",
    "\n",
    "A related problem is to show that a number is __not__ prime. This is a much easier problem: to show that $n$ is composite it is enough to give 2 integers $a$ and $b$, greater than 1, such that \n",
    "\n",
    "$$n = ab$$\n",
    "\n",
    "Here the certificate of compositeness is the pair $(a, b)$ and it can be verified by computing $ab$ and checking that it gives $n$, indeed. For example:"
   ]
  },
  {
   "cell_type": "code",
   "execution_count": 1,
   "metadata": {},
   "outputs": [
    {
     "name": "stdout",
     "output_type": "stream",
     "text": [
      "( 6864797660130609714981900799081393217269435300143305409394463459185543183397656052122559640661454554977296311391480858037121987999716643812574028291115057151 , 531137992816767098689588206552468627329593117727031923199444138200403559860852242739162502265229285668889329486246501015346579337652707239409519978766587351943831270835393219031728127 )\n",
      "\n",
      "is a certificate of compositeness for\n",
      "\n",
      "3646154850295011369707131011438711095400799139943170490872585628683549034362552065955809589514611470241298944167703929337528884908857116141935206466329731087514964112054543019336536216107629523597606330154669196064144182472739556974502462402438903115845725630946428943768540714098264727068026730424033578827886916761701429264950573899186177\n"
     ]
    }
   ],
   "source": [
    "# These Mersenne numbers are known to be prime.\n",
    "mersenne_521 = 2**521 - 1\n",
    "mersenne_607 = 2**607 - 1\n",
    "\n",
    "n = mersenne_521 * mersenne_607\n",
    "a = mersenne_521\n",
    "b = mersenne_607\n",
    "\n",
    "print('(', a, ',', b, ')')\n",
    "print('\\nis a certificate of compositeness for\\n')\n",
    "print(n)"
   ]
  },
  {
   "cell_type": "markdown",
   "metadata": {},
   "source": [
    "The goal of this notebook is to show that there are also short proofs (though not as short) for the primality of primes such as the 2 Mersenne numbers above.\n",
    "\n",
    "## Traditional primality algorithm\n",
    "The traditional way of checking that a number $n$ is prime is by making sure it cannot be evenly divided by smaller numbers. Actually, checking up to $\\sqrt n$ is enough."
   ]
  },
  {
   "cell_type": "code",
   "execution_count": 2,
   "metadata": {},
   "outputs": [
    {
     "name": "stdout",
     "output_type": "stream",
     "text": [
      "List of prime numbers:\n",
      "\n",
      "3 5 7 11 13 17 19 23 29 31 37 41 43 47 53 59 61 67 71 73 79 83 89 97 101 103 107 109 113 127 131 137 139 149 151 157 163 167 173 179 181 191 193 197 199 211 223 227 229 233 239 241 251 257 263 269 271 277 281 283 293 307 311 313 317 331 337 347 349 353 359 367 373 379 383 389 397 401 409 419 421 431 433 439 443 449 457 461 463 467 479 487 491 499 503 509 521 523 541 547 557 563 569 571 577 587 593 599 601 607 613 617 619 631 641 643 647 653 659 661 673 677 683 691 701 709 719 727 733 739 743 751 757 761 769 773 787 797 809 811 821 823 827 829 839 853 857 859 863 877 881 883 887 907 911 919 929 937 941 947 953 967 971 977 983 991 997 ...\n"
     ]
    }
   ],
   "source": [
    "# Returns True if n is prime.\n",
    "def is_prime(n):\n",
    "    if n <= 2: return False\n",
    "    if n == 2: return True\n",
    "    if n % 2 == 0: return False\n",
    "    i = 3\n",
    "    while (i*i <= n):\n",
    "        if n % i == 0:\n",
    "            return False\n",
    "        i += 2\n",
    "    return True\n",
    "\n",
    "print('List of prime numbers:\\n')\n",
    "for n in range(1, 1000):\n",
    "    if is_prime(n):\n",
    "        print(n, end=' ')\n",
    "print('...')"
   ]
  },
  {
   "cell_type": "markdown",
   "metadata": {},
   "source": [
    "This works well for relatively small numbers but doesn't scale up to, say, 100 digits. Note that the time complexity is $\\Theta(\\sqrt n)$, that is exponential __on the number of digits__.\n",
    "\n",
    "## Fermat's little theorem\n",
    "\n",
    "__Fermat's little theorem__\n",
    "\n",
    "If $p$ is prime and $0 < a < p$ then\n",
    "\n",
    "$$a^{p-1} = 1 \\mod p$$\n",
    "\n",
    "__Proof__\n",
    "\n",
    "For any $a$\n",
    "\n",
    "$$(a + 1)^{p} = {p\\choose 0}a^p + {p\\choose 1}a^{p-1} + {p\\choose 2}a^{p-2} + \\cdots + {p\\choose p}a^0$$\n",
    "\n",
    "Since $p$ is prime, most of the coefficients are divisible by $p$. Indeed for $1 \\leq q \\leq p-1$, ${p\\choose q} = {{p!} \\over {q!(p-q)!}}$ has $p$ in the numerator, but not in the denominator. Therefore we have\n",
    "\n",
    "$$(a + 1)^{p} = a^p + 1 \\mod p$$\n",
    "\n",
    "For $a = 1$, we get $$2^p = 2 \\mod p$$\n",
    "and using induction on $a$, we get more generally $$a^p = a \\mod p$$\n",
    "\n",
    "If $(a, p) = 1$, $a$ has an inverse (mod p), as can be seen using Euclid's algorithm, and therefore, for $0 < a < p$\n",
    "\n",
    "$$a^{p-1} = 1 \\mod p$$\n",
    "\n",
    "Let's check the theorem for a few values:"
   ]
  },
  {
   "cell_type": "code",
   "execution_count": 3,
   "metadata": {},
   "outputs": [
    {
     "name": "stdout",
     "output_type": "stream",
     "text": [
      "2 ** ( 2 - 1 ) = 1 mod 3\n",
      "2 ** ( 96 - 1 ) = 1 mod 97\n",
      "23 ** ( 58 - 1 ) = 1 mod 59\n",
      "2 ** ( 6864797660130609714981900799081393217269435300143305409394463459185543183397656052122559640661454554977296311391480858037121987999716643812574028291115057150 - 1 ) = 1 mod 6864797660130609714981900799081393217269435300143305409394463459185543183397656052122559640661454554977296311391480858037121987999716643812574028291115057151\n",
      "2 ** ( 531137992816767098689588206552468627329593117727031923199444138200403559860852242739162502265229285668889329486246501015346579337652707239409519978766587351943831270835393219031728126 - 1 ) = 1 mod 531137992816767098689588206552468627329593117727031923199444138200403559860852242739162502265229285668889329486246501015346579337652707239409519978766587351943831270835393219031728127\n"
     ]
    }
   ],
   "source": [
    "# Computes a**n mod m.\n",
    "def pow_mod(a, n, m):\n",
    "    if a >= m:\n",
    "        a %= m\n",
    "    if n == 0:\n",
    "        return 1\n",
    "    result = pow_mod(a, n // 2, m) ** 2\n",
    "    if n % 2 == 1: \n",
    "        result = a * result\n",
    "    result = result % m\n",
    "    return result\n",
    "\n",
    "def fermat_test(n, a):\n",
    "    return pow_mod(a, n-1, n) == 1\n",
    "\n",
    "def check_fermat(a, n):\n",
    "    assert(fermat_test(n, a))\n",
    "    print(a, '** (', n-1, '- 1 ) = 1 mod', n)\n",
    "    \n",
    "check_fermat(2, 3)\n",
    "check_fermat(2, 97)\n",
    "check_fermat(23, 59)\n",
    "check_fermat(2, mersenne_521)\n",
    "check_fermat(2, mersenne_607)"
   ]
  },
  {
   "cell_type": "markdown",
   "metadata": {},
   "source": [
    "On the other hand:"
   ]
  },
  {
   "cell_type": "code",
   "execution_count": 4,
   "metadata": {
    "scrolled": false
   },
   "outputs": [
    {
     "name": "stdout",
     "output_type": "stream",
     "text": [
      "n = 3646154850295011369707131011438711095400799139943170490872585628683549034362552065955809589514611470241298944167703929337528884908857116141935206466329731087514964112054543019336536216107629523597606330154669196064144182472739556974502462402438903115845725630946428943768540714098264727068026730424033578827886916761701429264950573899186177\n",
      "\n",
      "is composite. Indeed: 2^(n-1) mod n =\n",
      "\n",
      "117617898447960240594738066243890558744589682390176529192112418734563680630878699069868895603571073655147079382052381245794746597893046791796022644053827181234957536466206089534971894653069934981964122654984031075848787023021459140241103234472410417849613699642368118324583536948112226181224721873646572082806254147448685639776817059429343\n"
     ]
    }
   ],
   "source": [
    "composite = mersenne_521 * mersenne_607\n",
    "print('n =', composite)\n",
    "print('\\nis composite. Indeed: 2^(n-1) mod n =\\n')\n",
    "print(pow_mod(2, composite-1, composite))"
   ]
  },
  {
   "cell_type": "markdown",
   "metadata": {},
   "source": [
    "Note that Fermat's test is very fast even for very large numbers, and gives us, at least in the case above, a very fast proof of compositeness. \n",
    "\n",
    "## Pseudoprimes\n",
    "\n",
    "Fermat's little theorem is remarkable not only in itself, but also because its converse is almost true. But not quite as we are going to see.\n",
    "\n",
    "__Poulet numbers__\n",
    "\n",
    "Does $$2^{n-1} = 1 \\mod n$$ imply that $n$ is prime?\n",
    "\n",
    "Unfortunately, this is not true in general. Such numbers, composite but verifying the identity above, are called Poulet numbers."
   ]
  },
  {
   "cell_type": "code",
   "execution_count": 5,
   "metadata": {},
   "outputs": [
    {
     "name": "stdout",
     "output_type": "stream",
     "text": [
      "Poulet numbers\n",
      "\n",
      "Interval[ 2 , 1000 ]\n",
      "   167 primes\n",
      "   3 poulet numbers : [341, 561, 645]\n",
      "\n",
      "Interval[ 1000000 , 1010000 ]\n",
      "   753 primes\n",
      "   1 poulet numbers : [1004653]\n"
     ]
    }
   ],
   "source": [
    "def is_poulet(n):\n",
    "    return fermat_test(n, 2) and not is_prime(n)\n",
    "\n",
    "def pseudoprimes(start, end, is_pseudoprime):\n",
    "    num_primes = 0\n",
    "    pseudoprimes = []\n",
    "    for n in range(start, end + 1):\n",
    "        if is_prime(n):\n",
    "            num_primes += 1\n",
    "        elif is_pseudoprime(n):\n",
    "            pseudoprimes.append(n)\n",
    "    return pseudoprimes, num_primes\n",
    "\n",
    "def study_pseudoprimes(start, end, is_pseudoprime, name):\n",
    "    pseudoprimes_list, num_primes = pseudoprimes(start, end, is_pseudoprime)\n",
    "    print('Interval[', start, ',', end, ']')\n",
    "    print('  ', num_primes, 'primes')\n",
    "    print('  ',  len(pseudoprimes_list), name, ':', pseudoprimes_list)\n",
    "\n",
    "print('Poulet numbers\\n')            \n",
    "study_pseudoprimes(2, 1000, is_poulet, 'poulet numbers')\n",
    "print()\n",
    "study_pseudoprimes(1000000, 1010000, is_poulet, 'poulet numbers')"
   ]
  },
  {
   "cell_type": "markdown",
   "metadata": {},
   "source": [
    "While it looks like Poulet numbers are rare and this could be a good heuristic (and it seems to get better for larger numbers) it is not a __proof__ of primality.\n",
    "\n",
    "__2-3 Pseudoprimes__\n",
    "\n",
    "Our next attempt is to extend the test, and use 2 and 3 (and not just 2). \n",
    "\n",
    "Does $$2^{n-1} = 1 \\mod n$$ and $$3^{n-1} = 1 \\mod n$$ imply that $n$ is prime?\n",
    "\n",
    "Things get a little better but, unfortunately, the answer is no again."
   ]
  },
  {
   "cell_type": "code",
   "execution_count": 6,
   "metadata": {},
   "outputs": [
    {
     "name": "stdout",
     "output_type": "stream",
     "text": [
      "2-3 pseudoprimes\n",
      "\n",
      "Interval[ 2 , 1000 ]\n",
      "   167 primes\n",
      "   0 2-3 pseudoprimes : []\n",
      "Interval[ 1000000 , 1010000 ]\n",
      "   753 primes\n",
      "   0 2-3 pseudoprimes : []\n",
      "Interval[ 1000000 , 1100000 ]\n",
      "   7216 primes\n",
      "   4 2-3 pseudoprimes : [1024651, 1033669, 1050985, 1082809]\n"
     ]
    }
   ],
   "source": [
    "def is_2_3_pseudoprime(n):\n",
    "    return fermat_test(n, 2) and fermat_test(n, 3) and not is_prime(n)\n",
    "\n",
    "print('2-3 pseudoprimes\\n')            \n",
    "study_pseudoprimes(2, 1000, is_2_3_pseudoprime, '2-3 pseudoprimes')\n",
    "study_pseudoprimes(1000000, 1010000, is_2_3_pseudoprime, '2-3 pseudoprimes')\n",
    "study_pseudoprimes(1000000, 1100000, is_2_3_pseudoprime, '2-3 pseudoprimes')"
   ]
  },
  {
   "cell_type": "markdown",
   "metadata": {},
   "source": [
    "We could try to refine this approach, but it seems it can produce better and better heuristics, but not a proof.\n",
    "\n",
    "## A characterization of primes\n",
    "\n",
    "Let $S_p = \\{1,2,..,p-1\\}$.\n",
    "\n",
    "__Theorem:__ $p$ is prime if and only if there is $g \\in S_p$ such that as $g^1, g^2, g^3, \\ldots$ generates $S_p$.\n",
    "\n",
    "\n",
    "We will prove this at the end of the notebook, but let's give here some examples:\n",
    "\n",
    "__11 is prime__\n",
    "\n",
    "Indeed, 2, 6, 7 and 8 generate $S_{11}$."
   ]
  },
  {
   "cell_type": "code",
   "execution_count": 7,
   "metadata": {},
   "outputs": [
    {
     "name": "stdout",
     "output_type": "stream",
     "text": [
      "1 ** i ( mod 11 ) : 1 1 1 1 1 1 1 1 1 1 ...\n",
      "2 ** i ( mod 11 ) : 2 4 8 5 10 9 7 3 6 1 ...\n",
      "3 ** i ( mod 11 ) : 3 9 5 4 1 3 9 5 4 1 ...\n",
      "4 ** i ( mod 11 ) : 4 5 9 3 1 4 5 9 3 1 ...\n",
      "5 ** i ( mod 11 ) : 5 3 4 9 1 5 3 4 9 1 ...\n",
      "6 ** i ( mod 11 ) : 6 3 7 9 10 5 8 4 2 1 ...\n",
      "7 ** i ( mod 11 ) : 7 5 2 3 10 4 6 9 8 1 ...\n",
      "8 ** i ( mod 11 ) : 8 9 6 4 10 3 2 5 7 1 ...\n",
      "9 ** i ( mod 11 ) : 9 4 3 5 1 9 4 3 5 1 ...\n",
      "10 ** i ( mod 11 ) : 10 1 10 1 10 1 10 1 10 1 ...\n"
     ]
    }
   ],
   "source": [
    "def get_sequence(p, g):\n",
    "    sequence = []\n",
    "    term = g\n",
    "    for n in range(1, p):\n",
    "        sequence.append(term)\n",
    "        term *= g\n",
    "        term = term % p\n",
    "    return sequence\n",
    "    \n",
    "def print_sequence(p, g):\n",
    "    print(g, '** i ( mod', p, ') : ', end='')\n",
    "    sequence = get_sequence(p, g)\n",
    "    for term in sequence:\n",
    "        print(term, end=' ')\n",
    "    print('...')\n",
    "    \n",
    "n = 11\n",
    "for a in range(1, n):\n",
    "    print_sequence(n, a)"
   ]
  },
  {
   "cell_type": "markdown",
   "metadata": {},
   "source": [
    "__10 is not prime__\n",
    "\n",
    "Indeed, no number generates $S_{10}$."
   ]
  },
  {
   "cell_type": "code",
   "execution_count": 8,
   "metadata": {},
   "outputs": [
    {
     "name": "stdout",
     "output_type": "stream",
     "text": [
      "1 ** i ( mod 10 ) : 1 1 1 1 1 1 1 1 1 ...\n",
      "2 ** i ( mod 10 ) : 2 4 8 6 2 4 8 6 2 ...\n",
      "3 ** i ( mod 10 ) : 3 9 7 1 3 9 7 1 3 ...\n",
      "4 ** i ( mod 10 ) : 4 6 4 6 4 6 4 6 4 ...\n",
      "5 ** i ( mod 10 ) : 5 5 5 5 5 5 5 5 5 ...\n",
      "6 ** i ( mod 10 ) : 6 6 6 6 6 6 6 6 6 ...\n",
      "7 ** i ( mod 10 ) : 7 9 3 1 7 9 3 1 7 ...\n",
      "8 ** i ( mod 10 ) : 8 4 2 6 8 4 2 6 8 ...\n",
      "9 ** i ( mod 10 ) : 9 1 9 1 9 1 9 1 9 ...\n"
     ]
    }
   ],
   "source": [
    "n = 10\n",
    "for a in range(1, n):\n",
    "    print_sequence(n, a)"
   ]
  },
  {
   "cell_type": "markdown",
   "metadata": {},
   "source": [
    "__337 is prime__"
   ]
  },
  {
   "cell_type": "code",
   "execution_count": 9,
   "metadata": {},
   "outputs": [
    {
     "name": "stdout",
     "output_type": "stream",
     "text": [
      "Generators for 337 : [10, 15, 19, 20, 22, 23, 29, 31, 33, 34, 44, 45, 46, 51, 53, 60, 61, 67, 68, 70, 71, 73, 80, 83, 87, 89, 90, 93, 99, 101, 106, 109, 114, 116, 118, 120, 124, 130, 132, 134, 139, 143, 151, 152, 154, 160, 161, 166, 171, 176, 177, 183, 185, 186, 194, 198, 203, 205, 207, 213, 217, 219, 221, 223, 228, 231, 236, 238, 244, 247, 248, 250, 254, 257, 264, 266, 267, 269, 270, 276, 277, 284, 286, 291, 292, 293, 303, 304, 306, 308, 314, 315, 317, 318, 322, 327]\n"
     ]
    }
   ],
   "source": [
    "def get_generators(n):\n",
    "    generators = []\n",
    "    for a in range(1, n):\n",
    "        sequence = get_sequence(n, a)\n",
    "        generator = True\n",
    "        for i in range(1, n):\n",
    "            if not i in sequence:\n",
    "                generator = False\n",
    "                break\n",
    "        if generator:\n",
    "            generators.append(a)\n",
    "    return generators\n",
    "\n",
    "print('Generators for 337 :', get_generators(337))"
   ]
  },
  {
   "cell_type": "markdown",
   "metadata": {},
   "source": [
    "__341 is not prime__\n",
    "\n",
    "Remember, this is a Poulet number, and therefore a pseudoprime."
   ]
  },
  {
   "cell_type": "code",
   "execution_count": 10,
   "metadata": {},
   "outputs": [
    {
     "name": "stdout",
     "output_type": "stream",
     "text": [
      "Generators for 341 : []\n"
     ]
    }
   ],
   "source": [
    "print('Generators for 341 :', get_generators(341))"
   ]
  },
  {
   "cell_type": "markdown",
   "metadata": {},
   "source": [
    "## Pratt's Theorem\n",
    "\n",
    "__Theorem__ $p$ is prime if and only if, there is $g$, such that:\n",
    "* $g^{p-1} = 1$\n",
    "* for every proper factor $q$ of $p-1$, $g^{(p-1)/q} \\neq 1$"
   ]
  },
  {
   "cell_type": "markdown",
   "metadata": {},
   "source": [
    "## Primality Verifier\n",
    "\n",
    "We present now a function that allows to verify primality certificates."
   ]
  },
  {
   "cell_type": "code",
   "execution_count": 11,
   "metadata": {},
   "outputs": [],
   "source": [
    "# Verifies that (factors, witnesses) is a valid primality certificate for n.\n",
    "# The indentation helps readability, showing the recursion level in the output.\n",
    "# The verified_set is the set of primes that have been already verified, so we \n",
    "# don't verify them again.\n",
    "def verify_primality_certificate(n, factors, witnesses, indentation='', verified_set=[]):\n",
    "    if n == 2:\n",
    "        print(indentation,\"2 is a known prime\")\n",
    "        return True\n",
    "    if n in verified_set:\n",
    "        print(indentation, n, \"already verified\")\n",
    "        return True\n",
    "    print(indentation, \"verifying\", n, \"...\")\n",
    "    myfactors = factors[n]\n",
    "    # Verify product.\n",
    "    product = 1\n",
    "    for f in myfactors:\n",
    "        product *= f\n",
    "    if product != n - 1:\n",
    "        print(indentation, product, '!=', n - 1)\n",
    "        return False\n",
    "    print(indentation, \"product checked for\", n, '- 1')\n",
    "    # Verify criteria.\n",
    "    witness = witnesses[n]\n",
    "    if pow_mod(witness, n-1, n) != 1:\n",
    "        return False\n",
    "    for f in myfactors:\n",
    "        if pow_mod(witness, (n-1)//f, n) == 1:\n",
    "            print('Oops', witness, n, (n-1)//f, n)\n",
    "            return False\n",
    "    print(indentation, \"witness checked for\", n)\n",
    "    # Recurse.\n",
    "    print(indentation, 'recursing on factors', myfactors, 'of', n, '- 1')\n",
    "    for f in myfactors:\n",
    "        if not verify_primality_certificate(f, factors, witnesses, indentation + '  ', verified_set):\n",
    "            return False\n",
    "    print(indentation, '==>', n, \"is prime\")\n",
    "    verified_set.append(n)\n",
    "    return True"
   ]
  },
  {
   "cell_type": "markdown",
   "metadata": {},
   "source": [
    "__Verifying 31__"
   ]
  },
  {
   "cell_type": "code",
   "execution_count": 12,
   "metadata": {},
   "outputs": [
    {
     "name": "stdout",
     "output_type": "stream",
     "text": [
      " verifying 31 ...\n",
      " product checked for 31 - 1\n",
      " witness checked for 31\n",
      " recursing on factors [2, 3, 5] of 31 - 1\n",
      "   2 is a known prime\n",
      "   verifying 3 ...\n",
      "   product checked for 3 - 1\n",
      "   witness checked for 3\n",
      "   recursing on factors [2] of 3 - 1\n",
      "     2 is a known prime\n",
      "   ==> 3 is prime\n",
      "   verifying 5 ...\n",
      "   product checked for 5 - 1\n",
      "   witness checked for 5\n",
      "   recursing on factors [2, 2] of 5 - 1\n",
      "     2 is a known prime\n",
      "     2 is a known prime\n",
      "   ==> 5 is prime\n",
      " ==> 31 is prime\n"
     ]
    },
    {
     "data": {
      "text/plain": [
       "True"
      ]
     },
     "execution_count": 12,
     "metadata": {},
     "output_type": "execute_result"
    }
   ],
   "source": [
    "n = 31\n",
    "\n",
    "# (factors, witnesses) is the certificate of primality for 31.\n",
    "factors = {n:[2,3,5], 3:[2], 5:[2,2]}\n",
    "witnesses = {n:3, 3:2, 5:2}\n",
    "\n",
    "verify_primality_certificate(n, factors, witnesses, '', [])"
   ]
  },
  {
   "cell_type": "markdown",
   "metadata": {},
   "source": [
    "__Verifying $2^{89} - 1$__"
   ]
  },
  {
   "cell_type": "code",
   "execution_count": 13,
   "metadata": {},
   "outputs": [
    {
     "name": "stdout",
     "output_type": "stream",
     "text": [
      " verifying 618970019642690137449562111 ...\n",
      " product checked for 618970019642690137449562111 - 1\n",
      " witness checked for 618970019642690137449562111\n",
      " recursing on factors [2, 3, 5, 17, 23, 89, 353, 397, 683, 2113, 2931542417] of 618970019642690137449562111 - 1\n",
      "   2 is a known prime\n",
      "   verifying 3 ...\n",
      "   product checked for 3 - 1\n",
      "   witness checked for 3\n",
      "   recursing on factors [2] of 3 - 1\n",
      "     2 is a known prime\n",
      "   ==> 3 is prime\n",
      "   verifying 5 ...\n",
      "   product checked for 5 - 1\n",
      "   witness checked for 5\n",
      "   recursing on factors [2, 2] of 5 - 1\n",
      "     2 is a known prime\n",
      "     2 is a known prime\n",
      "   ==> 5 is prime\n",
      "   verifying 17 ...\n",
      "   product checked for 17 - 1\n",
      "   witness checked for 17\n",
      "   recursing on factors [2, 2, 2, 2] of 17 - 1\n",
      "     2 is a known prime\n",
      "     2 is a known prime\n",
      "     2 is a known prime\n",
      "     2 is a known prime\n",
      "   ==> 17 is prime\n",
      "   verifying 23 ...\n",
      "   product checked for 23 - 1\n",
      "   witness checked for 23\n",
      "   recursing on factors [2, 11] of 23 - 1\n",
      "     2 is a known prime\n",
      "     verifying 11 ...\n",
      "     product checked for 11 - 1\n",
      "     witness checked for 11\n",
      "     recursing on factors [2, 5] of 11 - 1\n",
      "       2 is a known prime\n",
      "       5 already verified\n",
      "     ==> 11 is prime\n",
      "   ==> 23 is prime\n",
      "   verifying 89 ...\n",
      "   product checked for 89 - 1\n",
      "   witness checked for 89\n",
      "   recursing on factors [2, 2, 2, 11] of 89 - 1\n",
      "     2 is a known prime\n",
      "     2 is a known prime\n",
      "     2 is a known prime\n",
      "     11 already verified\n",
      "   ==> 89 is prime\n",
      "   verifying 353 ...\n",
      "   product checked for 353 - 1\n",
      "   witness checked for 353\n",
      "   recursing on factors [2, 2, 2, 2, 2, 11] of 353 - 1\n",
      "     2 is a known prime\n",
      "     2 is a known prime\n",
      "     2 is a known prime\n",
      "     2 is a known prime\n",
      "     2 is a known prime\n",
      "     11 already verified\n",
      "   ==> 353 is prime\n",
      "   verifying 397 ...\n",
      "   product checked for 397 - 1\n",
      "   witness checked for 397\n",
      "   recursing on factors [2, 2, 3, 3, 11] of 397 - 1\n",
      "     2 is a known prime\n",
      "     2 is a known prime\n",
      "     3 already verified\n",
      "     3 already verified\n",
      "     11 already verified\n",
      "   ==> 397 is prime\n",
      "   verifying 683 ...\n",
      "   product checked for 683 - 1\n",
      "   witness checked for 683\n",
      "   recursing on factors [2, 11, 31] of 683 - 1\n",
      "     2 is a known prime\n",
      "     11 already verified\n",
      "     verifying 31 ...\n",
      "     product checked for 31 - 1\n",
      "     witness checked for 31\n",
      "     recursing on factors [2, 3, 5] of 31 - 1\n",
      "       2 is a known prime\n",
      "       3 already verified\n",
      "       5 already verified\n",
      "     ==> 31 is prime\n",
      "   ==> 683 is prime\n",
      "   verifying 2113 ...\n",
      "   product checked for 2113 - 1\n",
      "   witness checked for 2113\n",
      "   recursing on factors [2, 2, 2, 2, 2, 2, 3, 11] of 2113 - 1\n",
      "     2 is a known prime\n",
      "     2 is a known prime\n",
      "     2 is a known prime\n",
      "     2 is a known prime\n",
      "     2 is a known prime\n",
      "     2 is a known prime\n",
      "     3 already verified\n",
      "     11 already verified\n",
      "   ==> 2113 is prime\n",
      "   verifying 2931542417 ...\n",
      "   product checked for 2931542417 - 1\n",
      "   witness checked for 2931542417\n",
      "   recursing on factors [2, 2, 2, 2, 11, 1913, 8707] of 2931542417 - 1\n",
      "     2 is a known prime\n",
      "     2 is a known prime\n",
      "     2 is a known prime\n",
      "     2 is a known prime\n",
      "     11 already verified\n",
      "     verifying 1913 ...\n",
      "     product checked for 1913 - 1\n",
      "     witness checked for 1913\n",
      "     recursing on factors [2, 2, 2, 239] of 1913 - 1\n",
      "       2 is a known prime\n",
      "       2 is a known prime\n",
      "       2 is a known prime\n",
      "       verifying 239 ...\n",
      "       product checked for 239 - 1\n",
      "       witness checked for 239\n",
      "       recursing on factors [2, 7, 17] of 239 - 1\n",
      "         2 is a known prime\n",
      "         verifying 7 ...\n",
      "         product checked for 7 - 1\n",
      "         witness checked for 7\n",
      "         recursing on factors [2, 3] of 7 - 1\n",
      "           2 is a known prime\n",
      "           3 already verified\n",
      "         ==> 7 is prime\n",
      "         17 already verified\n",
      "       ==> 239 is prime\n",
      "     ==> 1913 is prime\n",
      "     verifying 8707 ...\n",
      "     product checked for 8707 - 1\n",
      "     witness checked for 8707\n",
      "     recursing on factors [2, 3, 1451] of 8707 - 1\n",
      "       2 is a known prime\n",
      "       3 already verified\n",
      "       verifying 1451 ...\n",
      "       product checked for 1451 - 1\n",
      "       witness checked for 1451\n",
      "       recursing on factors [2, 5, 5, 29] of 1451 - 1\n",
      "         2 is a known prime\n",
      "         5 already verified\n",
      "         5 already verified\n",
      "         verifying 29 ...\n",
      "         product checked for 29 - 1\n",
      "         witness checked for 29\n",
      "         recursing on factors [2, 2, 7] of 29 - 1\n",
      "           2 is a known prime\n",
      "           2 is a known prime\n",
      "           7 already verified\n",
      "         ==> 29 is prime\n",
      "       ==> 1451 is prime\n",
      "     ==> 8707 is prime\n",
      "   ==> 2931542417 is prime\n",
      " ==> 618970019642690137449562111 is prime\n"
     ]
    },
    {
     "data": {
      "text/plain": [
       "True"
      ]
     },
     "execution_count": 13,
     "metadata": {},
     "output_type": "execute_result"
    }
   ],
   "source": [
    "mersenne_89 = 2**89 - 1\n",
    "\n",
    "# (factors, witnesses) is the certificate of primality for mersenne_89.\n",
    "\n",
    "# Maps n to the factors of n-1.\n",
    "# The n's are the primes needed in the verification.\n",
    "factors = {mersenne_89:[2,3,5,17,23,89,353,397,683,2113,2931542417],\n",
    "           3:[2],\n",
    "           5:[2,2],\n",
    "           7:[2,3],\n",
    "           11:[2,5],\n",
    "           17:[2,2,2,2],\n",
    "           23:[2,11],\n",
    "           29:[2,2,7],\n",
    "           31:[2,3,5],\n",
    "           89:[2,2,2,11],\n",
    "           239:[2,7,17],\n",
    "           353:[2,2,2,2,2,11],\n",
    "           397:[2,2,3,3,11],\n",
    "           683:[2,11,31],\n",
    "           1451:[2,5,5,29],\n",
    "           1913:[2,2,2,239],\n",
    "           2113:[2,2,2,2,2,2,3,11],\n",
    "           8707:[2,3,1451],\n",
    "           2931542417:[2,2,2,2,11,1913,8707]}\n",
    "\n",
    "# Maps n to its witness for Fermat's test.\n",
    "# The n's are the primes needed in the verification.\n",
    "witnesses = {mersenne_89:3, \n",
    "             3:2, \n",
    "             5:2, \n",
    "             7:3,\n",
    "             11:2, \n",
    "             17:3, \n",
    "             23:5, \n",
    "             29:2,\n",
    "             31:3, \n",
    "             89:3, \n",
    "             239:7,\n",
    "             353:3, \n",
    "             397:5, \n",
    "             683:5,\n",
    "             1451:2,\n",
    "             1913:3,\n",
    "             2113:5, \n",
    "             8707:5,\n",
    "             2931542417:3}\n",
    "\n",
    "verify_primality_certificate(mersenne_89, factors, witnesses, '', [])"
   ]
  }
 ],
 "metadata": {
  "kernelspec": {
   "display_name": "Python 3",
   "language": "python",
   "name": "python3"
  },
  "language_info": {
   "codemirror_mode": {
    "name": "ipython",
    "version": 3
   },
   "file_extension": ".py",
   "mimetype": "text/x-python",
   "name": "python",
   "nbconvert_exporter": "python",
   "pygments_lexer": "ipython3",
   "version": "3.6.5"
  }
 },
 "nbformat": 4,
 "nbformat_minor": 2
}
